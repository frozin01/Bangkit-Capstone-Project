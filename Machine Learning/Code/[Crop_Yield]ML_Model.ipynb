{
  "nbformat": 4,
  "nbformat_minor": 0,
  "metadata": {
    "colab": {
      "name": "[Crop Yield]ML-Model.ipynb",
      "provenance": [],
      "collapsed_sections": [],
      "toc_visible": true,
      "include_colab_link": true
    },
    "kernelspec": {
      "name": "python3",
      "display_name": "Python 3"
    },
    "language_info": {
      "name": "python"
    }
  },
  "cells": [
    {
      "cell_type": "markdown",
      "metadata": {
        "id": "view-in-github",
        "colab_type": "text"
      },
      "source": [
        "<a href=\"https://colab.research.google.com/github/u1-byte/SmartCropYieldsPrediction/blob/main/Machine%20Learning/Code/%5BCrop_Yield%5DML_Model.ipynb\" target=\"_parent\"><img src=\"https://colab.research.google.com/assets/colab-badge.svg\" alt=\"Open In Colab\"/></a>"
      ]
    },
    {
      "cell_type": "markdown",
      "metadata": {
        "id": "E08FCNdBI07P"
      },
      "source": [
        "MODEL UNTUK MEMPREDIKSI TOTAL PRODUKSI BERAS PADA WILAYAH TERTENTU\n",
        "\n",
        "1.   Input : Suhu, kelembaban, curah hujan, lama penyinaran, luas lahan\n",
        "2.   Output : Total produksi beras\n",
        "3.   Scope Input dan Output :  Data diambail rata rata dalam tiap bulan pada Provinsi Jawa Timur \n",
        "4.   Sumber : https://dataonline.bmkg.go.id/data_iklim,  https://jatim.bps.go.id/publication/2020/12/28/53ad74b4263660ce4adf0ed3/analisis-data-beras-provinsi-jawa-timur-2018-2020.html"
      ]
    },
    {
      "cell_type": "markdown",
      "metadata": {
        "id": "2y1Z_6bfAQ8Q"
      },
      "source": [
        "# New Section"
      ]
    },
    {
      "cell_type": "code",
      "metadata": {
        "id": "HN9u944mIpAP"
      },
      "source": [
        "# Import library yang dibutuhkan\n",
        "import tensorflow as tf\n",
        "from tensorflow import keras\n",
        "import numpy as np\n",
        "import matplotlib.pyplot as plt\n",
        "from google.colab import files\n",
        "import csv\n",
        "from sklearn.preprocessing import MinMaxScaler\n",
        "from sklearn.model_selection import train_test_split"
      ],
      "execution_count": null,
      "outputs": []
    },
    {
      "cell_type": "code",
      "metadata": {
        "colab": {
          "resources": {
            "http://localhost:8080/nbextensions/google.colab/files.js": {
              "data": "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",
              "ok": true,
              "headers": [
                [
                  "content-type",
                  "application/javascript"
                ]
              ],
              "status": 200,
              "status_text": ""
            }
          },
          "base_uri": "https://localhost:8080/",
          "height": 73
        },
        "id": "dVUkROMVMIsP",
        "outputId": "0ac445e0-3dab-4eae-a2fd-9608af91048a"
      },
      "source": [
        "# Upload file dataset dari lokal\n",
        "uploaded = files.upload()"
      ],
      "execution_count": null,
      "outputs": [
        {
          "output_type": "display_data",
          "data": {
            "text/html": [
              "\n",
              "     <input type=\"file\" id=\"files-782f81ba-4e33-406c-8272-36d1a3f04f1b\" name=\"files[]\" multiple disabled\n",
              "        style=\"border:none\" />\n",
              "     <output id=\"result-782f81ba-4e33-406c-8272-36d1a3f04f1b\">\n",
              "      Upload widget is only available when the cell has been executed in the\n",
              "      current browser session. Please rerun this cell to enable.\n",
              "      </output>\n",
              "      <script src=\"/nbextensions/google.colab/files.js\"></script> "
            ],
            "text/plain": [
              "<IPython.core.display.HTML object>"
            ]
          },
          "metadata": {
            "tags": []
          }
        },
        {
          "output_type": "stream",
          "text": [
            "Saving Database.csv to Database.csv\n"
          ],
          "name": "stdout"
        }
      ]
    },
    {
      "cell_type": "markdown",
      "metadata": {
        "id": "rjFhtFNZMvMA"
      },
      "source": [
        "# **Exploratory Data Analysis**"
      ]
    },
    {
      "cell_type": "code",
      "metadata": {
        "id": "4tz2_31_SI2J"
      },
      "source": [
        "# Input data\n",
        "input_suhu_ratarata = []\n",
        "input_kelembaban_ratarata = []\n",
        "input_curah_hujan = []\n",
        "input_lama_penyinaran = []\n",
        "input_luas_lahan = []\n",
        "number_of_input = []\n",
        "number=1\n",
        "\n",
        "# Baca file.csv\n",
        "with open('/content/Database - Jawa Timur.csv') as csv_file:\n",
        "  csv_reader = csv.reader(csv_file, delimiter=',')\n",
        "  next(csv_reader)\n",
        "  for row in csv_reader:\n",
        "    number_of_input.append(number)\n",
        "    input_suhu_ratarata.append(float(row[3]))\n",
        "    input_kelembaban_ratarata.append(float(row[6]))\n",
        "    input_curah_hujan.append(float(row[7]))\n",
        "    input_lama_penyinaran.append(float(row[8]))\n",
        "    input_luas_lahan.append(float(row[9]))\n",
        "    number+=1"
      ],
      "execution_count": null,
      "outputs": []
    },
    {
      "cell_type": "code",
      "metadata": {
        "colab": {
          "base_uri": "https://localhost:8080/",
          "height": 1000
        },
        "id": "6N4IM3JzU0UY",
        "outputId": "1fc6b24d-68a5-4d0a-d991-91e44b0c72b6"
      },
      "source": [
        "# Grafik dataset\n",
        "\n",
        "# Grafik garis dari Suhu\n",
        "plt.plot(number_of_input,input_suhu_ratarata,marker='o')\n",
        "plt.title('Suhu (2018 - 2020)')\n",
        "plt.ylabel('C')\n",
        "plt.xlabel('Bulan')\n",
        "plt.show()\n",
        "\n",
        "# Grafik garis dari Kelembaban\n",
        "plt.plot(number_of_input,input_kelembaban_ratarata,marker='o')\n",
        "plt.title('Kelembaban (2018 - 2020)')\n",
        "plt.ylabel('RH')\n",
        "plt.xlabel('Bulan')\n",
        "plt.show()\n",
        "\n",
        "# Grafik garis dari Curah Hujan\n",
        "plt.plot(number_of_input,input_curah_hujan,marker='o')\n",
        "plt.title('Curah Hujan (2018 - 2020)')\n",
        "plt.ylabel('mm')\n",
        "plt.xlabel('Bulan')\n",
        "plt.show()\n",
        "\n",
        "# Grafik garis dari Lama Penyinaran\n",
        "plt.plot(number_of_input,input_lama_penyinaran,marker='o')\n",
        "plt.title('Lama Penyinaran (Cerah) (2018 - 2020)')\n",
        "plt.ylabel('Jam')\n",
        "plt.xlabel('Bulan')\n",
        "plt.show()\n",
        "\n",
        "# Grafik garis dari Luas Lahan\n",
        "plt.plot(number_of_input,input_luas_lahan,marker='o')\n",
        "plt.title('Luas Lahan (2018 - 2020)')\n",
        "plt.ylabel('Ha')\n",
        "plt.xlabel('Bulan')\n",
        "plt.show()"
      ],
      "execution_count": null,
      "outputs": [
        {
          "output_type": "display_data",
          "data": {
            "image/png": "[encoded data removed]",
            "text/plain": [
              "<Figure size 432x288 with 1 Axes>"
            ]
          },
          "metadata": {
            "tags": [],
            "needs_background": "light"
          }
        },
        {
          "output_type": "display_data",
          "data": {
            "image/png": "[encoded data removed]",
            "text/plain": [
              "<Figure size 432x288 with 1 Axes>"
            ]
          },
          "metadata": {
            "tags": [],
            "needs_background": "light"
          }
        },
        {
          "output_type": "display_data",
          "data": {
            "image/png": "[encoded data removed]",
            "text/plain": [
              "<Figure size 432x288 with 1 Axes>"
            ]
          },
          "metadata": {
            "tags": [],
            "needs_background": "light"
          }
        },
        {
          "output_type": "display_data",
          "data": {
            "image/png": "[encoded data removed]",
            "text/plain": [
              "<Figure size 432x288 with 1 Axes>"
            ]
          },
          "metadata": {
            "tags": [],
            "needs_background": "light"
          }
        },
        {
          "output_type": "display_data",
          "data": {
            "image/png": "[encoded data removed]",
            "text/plain": [
              "<Figure size 432x288 with 1 Axes>"
            ]
          },
          "metadata": {
            "tags": [],
            "needs_background": "light"
          }
        }
      ]
    },
    {
      "cell_type": "code",
      "metadata": {
        "id": "uo8mf0vkXKtR"
      },
      "source": [
        "# Output data\n",
        "output_total_produksi_panen = []\n",
        "number_of_output = []\n",
        "number=1\n",
        "\n",
        "# Baca file.csv\n",
        "with open('/content/Database - Jawa Timur.csv') as csv_file:\n",
        "  csv_reader = csv.reader(csv_file, delimiter=',')\n",
        "  next(csv_reader)\n",
        "  for row in csv_reader:\n",
        "    number_of_output.append(number)\n",
        "    output_total_produksi_panen.append(float(row[10]))\n",
        "    number+=1"
      ],
      "execution_count": null,
      "outputs": []
    },
    {
      "cell_type": "code",
      "metadata": {
        "colab": {
          "base_uri": "https://localhost:8080/",
          "height": 295
        },
        "id": "SbIcE0Jqbdk5",
        "outputId": "39d931de-9fc9-4d49-b02f-cd94a18dbc5e"
      },
      "source": [
        "# Grafik data\n",
        "\n",
        "# Grafik garis dari total produksi beras\n",
        "plt.plot(number_of_output,output_total_produksi_panen,marker='o')\n",
        "plt.title('Total Produksi Panen (2018 - 2020)')\n",
        "plt.ylabel('Ton')\n",
        "plt.xlabel('Bulan')\n",
        "plt.show()"
      ],
      "execution_count": null,
      "outputs": [
        {
          "output_type": "display_data",
          "data": {
            "image/png": "[encoded data removed]",
            "text/plain": [
              "<Figure size 432x288 with 1 Axes>"
            ]
          },
          "metadata": {
            "tags": [],
            "needs_background": "light"
          }
        }
      ]
    },
    {
      "cell_type": "markdown",
      "metadata": {
        "id": "0LC3V9IDcKhl"
      },
      "source": [
        "# **Data Prepocessing**"
      ]
    },
    {
      "cell_type": "code",
      "metadata": {
        "colab": {
          "base_uri": "https://localhost:8080/"
        },
        "id": "FbVDuu-EcHvs",
        "outputId": "abe625af-49f3-4173-c4f4-adce889db55f"
      },
      "source": [
        "# Input dari data pada database\n",
        "input = []\n",
        "counter=0\n",
        "\n",
        "# Baca file.csv\n",
        "with open('/content/Database.csv') as csv_file:\n",
        "  csv_reader = csv.reader(csv_file, delimiter=',')\n",
        "  next(csv_reader)\n",
        "  for row in csv_reader:\n",
        "    input.append([])\n",
        "    input[counter].append(float(row[1]))\n",
        "    input[counter].append(float(row[2]))\n",
        "    input[counter].append(float(row[3]))\n",
        "    input[counter].append(float(row[4]))\n",
        "    input[counter].append(float(row[5]))\n",
        "    input[counter].append(float(row[6]))\n",
        "    input[counter].append(float(row[7]))\n",
        "    input[counter].append(float(row[8]))\n",
        "    input[counter].append(float(row[9]))\n",
        "    input[counter].append(float(row[10]))\n",
        "    input[counter].append(float(row[11]))\n",
        "    input[counter].append(float(row[12]))\n",
        "    input[counter].append(float(row[13]))\n",
        "    input[counter].append(float(row[14]))\n",
        "    input[counter].append(float(row[15]))\n",
        "    input[counter].append(float(row[16]))\n",
        "    input[counter].append(float(row[17]))\n",
        "    counter+=1\n",
        "\n",
        "input = np.array(input)\n",
        "\n",
        "print(input)\n",
        "print(len(input))"
      ],
      "execution_count": null,
      "outputs": [
        {
          "output_type": "stream",
          "text": [
            "[[2.97700e+01 2.82600e+01 2.80500e+01 2.76900e+01 7.00000e+01 8.00000e+01\n",
            "  8.10000e+01 8.16100e+01 2.86000e+00 1.10300e+01 1.46900e+01 1.08800e+01\n",
            "  7.92000e+00 4.51000e+00 4.36000e+00 3.44000e+00 3.61200e+04]\n",
            " [2.82600e+01 2.80500e+01 2.76900e+01 2.72100e+01 8.00000e+01 8.10000e+01\n",
            "  8.16100e+01 8.30700e+01 1.10300e+01 1.46900e+01 1.08800e+01 1.74500e+01\n",
            "  4.51000e+00 4.36000e+00 3.44000e+00 5.41000e+00 1.61569e+05]\n",
            " [2.80500e+01 2.76900e+01 2.72100e+01 2.76400e+01 8.10000e+01 8.16100e+01\n",
            "  8.30700e+01 8.32900e+01 1.46900e+01 1.08800e+01 1.74500e+01 1.60300e+01\n",
            "  4.36000e+00 3.44000e+00 5.41000e+00 5.20000e+00 3.91629e+05]\n",
            " [2.76900e+01 2.72100e+01 2.76400e+01 2.89600e+01 8.16100e+01 8.30700e+01\n",
            "  8.32900e+01 7.70000e+01 1.08800e+01 1.74500e+01 1.60300e+01 1.03700e+01\n",
            "  3.44000e+00 5.41000e+00 5.20000e+00 8.14000e+00 2.29253e+05]\n",
            " [2.72100e+01 2.76400e+01 2.89600e+01 2.87500e+01 8.30700e+01 8.32900e+01\n",
            "  7.70000e+01 7.44800e+01 1.74500e+01 1.60300e+01 1.03700e+01 0.00000e+00\n",
            "  5.41000e+00 5.20000e+00 8.14000e+00 8.11000e+00 1.14149e+05]\n",
            " [2.76400e+01 2.89600e+01 2.87500e+01 2.79100e+01 8.32900e+01 7.70000e+01\n",
            "  7.44800e+01 7.59700e+01 1.60300e+01 1.03700e+01 0.00000e+00 4.61000e+00\n",
            "  5.20000e+00 8.14000e+00 8.11000e+00 8.19000e+00 1.64821e+05]\n",
            " [2.89600e+01 2.87500e+01 2.79100e+01 2.66600e+01 7.70000e+01 7.44800e+01\n",
            "  7.59700e+01 7.42600e+01 1.03700e+01 0.00000e+00 4.61000e+00 0.00000e+00\n",
            "  8.14000e+00 8.11000e+00 8.19000e+00 9.04000e+00 2.11502e+05]\n",
            " [2.87500e+01 2.79100e+01 2.66600e+01 2.66700e+01 7.44800e+01 7.59700e+01\n",
            "  7.42600e+01 7.19000e+01 0.00000e+00 4.61000e+00 0.00000e+00 0.00000e+00\n",
            "  8.11000e+00 8.19000e+00 9.04000e+00 8.95000e+00 1.26227e+05]\n",
            " [2.79100e+01 2.66600e+01 2.66700e+01 2.80500e+01 7.59700e+01 7.42600e+01\n",
            "  7.19000e+01 6.83000e+01 4.61000e+00 0.00000e+00 0.00000e+00 7.20000e-01\n",
            "  8.19000e+00 9.04000e+00 8.95000e+00 8.00000e+00 1.00691e+05]\n",
            " [2.66600e+01 2.66700e+01 2.80500e+01 2.93500e+01 7.42600e+01 7.19000e+01\n",
            "  6.83000e+01 6.70000e+01 0.00000e+00 0.00000e+00 7.20000e-01 0.00000e+00\n",
            "  9.04000e+00 8.95000e+00 8.00000e+00 8.73000e+00 7.95250e+04]\n",
            " [2.66700e+01 2.80500e+01 2.93500e+01 2.95100e+01 7.19000e+01 6.83000e+01\n",
            "  6.70000e+01 7.35000e+01 0.00000e+00 7.20000e-01 0.00000e+00 6.97000e+00\n",
            "  8.95000e+00 8.00000e+00 8.73000e+00 6.35000e+00 7.79070e+04]\n",
            " [2.80500e+01 2.93500e+01 2.95100e+01 2.90300e+01 6.83000e+01 6.70000e+01\n",
            "  7.35000e+01 7.72900e+01 7.20000e-01 0.00000e+00 6.97000e+00 1.61000e+01\n",
            "  8.00000e+00 8.73000e+00 6.35000e+00 3.76000e+00 5.73980e+04]\n",
            " [2.93500e+01 2.95100e+01 2.90300e+01 2.78400e+01 6.70000e+01 7.35000e+01\n",
            "  7.72900e+01 8.21300e+01 0.00000e+00 6.97000e+00 1.61000e+01 1.62600e+01\n",
            "  8.73000e+00 6.35000e+00 3.76000e+00 4.52000e+00 5.67360e+04]\n",
            " [2.95100e+01 2.90300e+01 2.78400e+01 2.80000e+01 7.35000e+01 7.72900e+01\n",
            "  8.21300e+01 8.19300e+01 6.97000e+00 1.61000e+01 1.62600e+01 1.73500e+01\n",
            "  6.35000e+00 3.76000e+00 4.52000e+00 5.77000e+00 7.83500e+04]\n",
            " [2.90300e+01 2.78400e+01 2.80000e+01 2.76800e+01 7.72900e+01 8.21300e+01\n",
            "  8.19300e+01 8.37000e+01 1.61000e+01 1.62600e+01 1.73500e+01 1.14500e+01\n",
            "  3.76000e+00 4.52000e+00 5.77000e+00 4.87000e+00 3.41663e+05]\n",
            " [2.78400e+01 2.80000e+01 2.76800e+01 2.83700e+01 8.21300e+01 8.19300e+01\n",
            "  8.37000e+01 8.36000e+01 1.62600e+01 1.73500e+01 1.14500e+01 1.27900e+01\n",
            "  4.52000e+00 5.77000e+00 4.87000e+00 6.09000e+00 3.31680e+05]\n",
            " [2.80000e+01 2.76800e+01 2.83700e+01 2.84600e+01 8.19300e+01 8.37000e+01\n",
            "  8.36000e+01 7.73100e+01 1.73500e+01 1.14500e+01 1.27900e+01 1.80000e+00\n",
            "  5.77000e+00 4.87000e+00 6.09000e+00 8.59000e+00 1.16104e+05]\n",
            " [2.76800e+01 2.83700e+01 2.84600e+01 2.71300e+01 8.37000e+01 8.36000e+01\n",
            "  7.73100e+01 7.63300e+01 1.14500e+01 1.27900e+01 1.80000e+00 0.00000e+00\n",
            "  4.87000e+00 6.09000e+00 8.59000e+00 8.25000e+00 1.51269e+05]\n",
            " [2.83700e+01 2.84600e+01 2.71300e+01 2.64900e+01 8.36000e+01 7.73100e+01\n",
            "  7.63300e+01 7.50000e+01 1.27900e+01 1.80000e+00 0.00000e+00 3.00000e-02\n",
            "  6.09000e+00 8.59000e+00 8.25000e+00 8.60000e+00 2.01161e+05]\n",
            " [2.84600e+01 2.71300e+01 2.64900e+01 2.66600e+01 7.73100e+01 7.63300e+01\n",
            "  7.50000e+01 7.22900e+01 1.80000e+00 0.00000e+00 3.00000e-02 0.00000e+00\n",
            "  8.59000e+00 8.25000e+00 8.60000e+00 9.40000e+00 1.41740e+05]\n",
            " [2.71300e+01 2.64900e+01 2.66600e+01 2.73000e+01 7.63300e+01 7.50000e+01\n",
            "  7.22900e+01 7.09000e+01 0.00000e+00 3.00000e-02 0.00000e+00 0.00000e+00\n",
            "  8.25000e+00 8.60000e+00 9.40000e+00 9.27000e+00 8.26100e+04]\n",
            " [2.64900e+01 2.66600e+01 2.73000e+01 2.88900e+01 7.50000e+01 7.22900e+01\n",
            "  7.09000e+01 6.80000e+01 3.00000e-02 0.00000e+00 0.00000e+00 0.00000e+00\n",
            "  8.60000e+00 9.40000e+00 9.27000e+00 9.47000e+00 7.77840e+04]\n",
            " [2.66600e+01 2.73000e+01 2.88900e+01 3.02500e+01 7.22900e+01 7.09000e+01\n",
            "  6.80000e+01 6.77300e+01 0.00000e+00 0.00000e+00 0.00000e+00 8.80000e-01\n",
            "  9.40000e+00 9.27000e+00 9.47000e+00 8.88000e+00 7.83790e+04]\n",
            " [2.73000e+01 2.88900e+01 3.02500e+01 2.98600e+01 7.09000e+01 6.80000e+01\n",
            "  6.77300e+01 7.48900e+01 0.00000e+00 0.00000e+00 8.80000e-01 7.08000e+00\n",
            "  9.27000e+00 9.47000e+00 8.88000e+00 6.62000e+00 4.49490e+04]\n",
            " [2.88900e+01 3.02500e+01 2.98600e+01 2.83800e+01 6.80000e+01 6.77300e+01\n",
            "  7.48900e+01 8.18400e+01 0.00000e+00 8.80000e-01 7.08000e+00 1.14500e+01\n",
            "  9.47000e+00 8.88000e+00 6.62000e+00 5.04000e+00 5.10550e+04]\n",
            " [3.02500e+01 2.98600e+01 2.83800e+01 2.76800e+01 6.77300e+01 7.48900e+01\n",
            "  8.18400e+01 8.54500e+01 8.80000e-01 7.08000e+00 1.14500e+01 1.88400e+01\n",
            "  8.88000e+00 6.62000e+00 5.04000e+00 4.72000e+00 5.98730e+04]\n",
            " [2.98600e+01 2.83800e+01 2.76800e+01 2.81900e+01 7.48900e+01 8.18400e+01\n",
            "  8.54500e+01 8.37700e+01 7.08000e+00 1.14500e+01 1.88400e+01 1.05300e+01\n",
            "  6.62000e+00 5.04000e+00 4.72000e+00 5.54000e+00 2.18193e+05]\n",
            " [2.83800e+01 2.76800e+01 2.81900e+01 2.85400e+01 8.18400e+01 8.54500e+01\n",
            "  8.37700e+01 8.26000e+01 1.14500e+01 1.88400e+01 1.05300e+01 1.34200e+01\n",
            "  5.04000e+00 4.72000e+00 5.54000e+00 6.28000e+00 3.94917e+05]\n",
            " [2.76800e+01 2.81900e+01 2.85400e+01 2.83900e+01 8.54500e+01 8.37700e+01\n",
            "  8.26000e+01 8.25800e+01 1.88400e+01 1.05300e+01 1.34200e+01 1.81300e+01\n",
            "  4.72000e+00 5.54000e+00 6.28000e+00 7.04000e+00 1.91365e+05]\n",
            " [2.81900e+01 2.85400e+01 2.83900e+01 2.76800e+01 8.37700e+01 8.26000e+01\n",
            "  8.25800e+01 7.96600e+01 1.05300e+01 1.34200e+01 1.81300e+01 1.81000e+00\n",
            "  5.54000e+00 6.28000e+00 7.04000e+00 7.42000e+00 1.13835e+05]\n",
            " [2.85400e+01 2.83900e+01 2.76800e+01 2.72800e+01 8.26000e+01 8.25800e+01\n",
            "  7.96600e+01 7.61700e+01 1.34200e+01 1.81300e+01 1.81000e+00 1.00000e-01\n",
            "  6.28000e+00 7.04000e+00 7.42000e+00 8.25000e+00 2.08803e+05]\n",
            " [2.83900e+01 2.76800e+01 2.72800e+01 2.75400e+01 8.25800e+01 7.96600e+01\n",
            "  7.61700e+01 7.57700e+01 1.81300e+01 1.81000e+00 1.00000e-01 8.80000e-01\n",
            "  7.04000e+00 7.42000e+00 8.25000e+00 8.65000e+00 1.78561e+05]\n",
            " [2.76800e+01 2.72800e+01 2.75400e+01 2.87200e+01 7.96600e+01 7.61700e+01\n",
            "  7.57700e+01 7.08800e+01 1.81000e+00 1.00000e-01 8.80000e-01 0.00000e+00\n",
            "  7.42000e+00 8.25000e+00 8.65000e+00 9.01000e+00 9.94310e+04]\n",
            " [2.72800e+01 2.75400e+01 2.87200e+01 2.91800e+01 7.61700e+01 7.57700e+01\n",
            "  7.08800e+01 7.29700e+01 1.00000e-01 8.80000e-01 0.00000e+00 1.99000e+00\n",
            "  8.25000e+00 8.65000e+00 9.01000e+00 7.03000e+00 1.06681e+05]\n",
            " [2.75400e+01 2.87200e+01 2.91800e+01 2.91700e+01 7.57700e+01 7.08800e+01\n",
            "  7.29700e+01 7.67300e+01 8.80000e-01 0.00000e+00 1.99000e+00 6.70000e+00\n",
            "  8.65000e+00 9.01000e+00 7.03000e+00 6.29000e+00 7.99360e+04]\n",
            " [2.87200e+01 2.91800e+01 2.91700e+01 2.72600e+01 7.08800e+01 7.29700e+01\n",
            "  7.67300e+01 8.50600e+01 0.00000e+00 1.99000e+00 6.70000e+00 2.18400e+01\n",
            "  9.01000e+00 7.03000e+00 6.29000e+00 3.27000e+00 5.92320e+04]]\n",
            "36\n"
          ],
          "name": "stdout"
        }
      ]
    },
    {
      "cell_type": "code",
      "metadata": {
        "colab": {
          "base_uri": "https://localhost:8080/"
        },
        "id": "5iPDOsJkcoW4",
        "outputId": "71a7e48b-36a0-48ae-8146-acddbb605a3d"
      },
      "source": [
        "# Output dari data pada database\n",
        "output = []\n",
        "counter=0\n",
        "\n",
        "# Baca file.csv\n",
        "with open('/content/Database.csv') as csv_file:\n",
        "  csv_reader = csv.reader(csv_file, delimiter=',')\n",
        "  next(csv_reader)\n",
        "  for row in csv_reader:\n",
        "    output.append([])\n",
        "    output[counter].append(float(row[19]))\n",
        "    counter+=1\n",
        "\n",
        "output = np.array(output)\n",
        "\n",
        "print(output)\n",
        "print(len(output))"
      ],
      "execution_count": null,
      "outputs": [
        {
          "output_type": "stream",
          "text": [
            "[[ 2.1133691]\n",
            " [ 9.6055539]\n",
            " [22.932964 ]\n",
            " [13.4546255]\n",
            " [ 6.3529704]\n",
            " [ 9.2359984]\n",
            " [11.9008694]\n",
            " [ 7.1460688]\n",
            " [ 6.2466323]\n",
            " [ 4.8972149]\n",
            " [ 4.7015111]\n",
            " [ 3.42637  ]\n",
            " [ 3.1422876]\n",
            " [ 4.4255879]\n",
            " [19.337996 ]\n",
            " [18.5712826]\n",
            " [ 6.1613488]\n",
            " [ 8.0630587]\n",
            " [10.7132017]\n",
            " [ 7.502774 ]\n",
            " [ 5.1656494]\n",
            " [ 5.01296  ]\n",
            " [ 4.9905944]\n",
            " [ 2.7225977]\n",
            " [ 2.8872113]\n",
            " [ 3.4524114]\n",
            " [13.2402059]\n",
            " [22.4396732]\n",
            " [ 9.9209194]\n",
            " [ 6.0341993]\n",
            " [11.3587236]\n",
            " [ 9.241076 ]\n",
            " [ 6.1872834]\n",
            " [ 6.7832407]\n",
            " [ 5.0785959]\n",
            " [ 3.6003271]]\n",
            "36\n"
          ],
          "name": "stdout"
        }
      ]
    },
    {
      "cell_type": "code",
      "metadata": {
        "colab": {
          "base_uri": "https://localhost:8080/"
        },
        "id": "aEzI19Ho0hXi",
        "outputId": "8de7a46b-fcb0-40be-c817-2cb090a2b6b8"
      },
      "source": [
        "# Bagi data untuk training dan testing\n",
        "input_train, input_test, output_train, output_test = train_test_split(input, output, test_size=0.15, shuffle=True)\n",
        "\n",
        "print(len(input_train))\n",
        "print(len(input_test))"
      ],
      "execution_count": null,
      "outputs": [
        {
          "output_type": "stream",
          "text": [
            "30\n",
            "6\n"
          ],
          "name": "stdout"
        }
      ]
    },
    {
      "cell_type": "code",
      "metadata": {
        "colab": {
          "base_uri": "https://localhost:8080/"
        },
        "id": "mabHqdJE2soE",
        "outputId": "6bbd984b-b029-4a61-ba01-183bab0eb513"
      },
      "source": [
        "# Normalisasi data\n",
        "scaler_input = MinMaxScaler()\n",
        "scaler_input.fit(input_train)\n",
        "input_train_scaled = scaler_input.transform(input_train)\n",
        "input_test_scaled = scaler_input.transform(input_test)\n",
        "\n",
        "print(input_train_scaled)\n",
        "print(input_test_scaled)"
      ],
      "execution_count": null,
      "outputs": [
        {
          "output_type": "stream",
          "text": [
            "[[0.04521277 0.21542553 0.62116992 1.         0.28672087 0.21138211\n",
            "  0.01523702 0.0395664  0.         0.         0.         0.04029304\n",
            "  0.98774081 0.96497373 1.         0.90483871 0.11777969]\n",
            " [0.31648936 0.45212766 0.52367688 0.50531915 1.         0.90894309\n",
            "  0.83916479 0.84444444 1.         0.5589172  0.71231423 0.83012821\n",
            "  0.16812609 0.3117338  0.47097844 0.60806452 0.43268199]\n",
            " [0.37765957 0.04521277 0.00278552 0.41489362 0.48617886 0.39349593\n",
            "  0.23532731 0.0704607  0.24469214 0.         0.         0.03296703\n",
            "  0.77583187 0.92469352 0.91376451 0.76290323 0.17996527]\n",
            " [0.63829787 1.         0.8913649  0.50265957 0.05420054 0.0395664\n",
            "  0.40406321 0.80433604 0.         0.04670913 0.37579618 0.5242674\n",
            "  1.         0.8966725  0.52736318 0.28548387 0.04162521]\n",
            " [0.80319149 0.67553191 0.32869081 0.40159574 0.35230352 0.55772358\n",
            "  0.81264108 0.80921409 0.36995754 0.85456476 0.86305732 0.79441392\n",
            "  0.45359019 0.         0.17910448 0.40322581 0.11769887]\n",
            " [0.40159574 0.31648936 0.47632312 0.52393617 0.80921409 0.90514905\n",
            "  0.89559819 0.55880759 0.92091295 0.60774947 0.67887473 0.08241758\n",
            "  0.35201401 0.1943958  0.43946932 0.85806452 0.22292271]\n",
            " [0.27925532 0.59308511 0.70194986 0.71276596 0.47533875 0.2102981\n",
            "  0.29571106 0.52737127 0.04670913 0.         0.10562633 0.30677656\n",
            "  0.85639229 0.91943958 0.59535655 0.48709677 0.12211919]\n",
            " [0.30585106 0.65691489 0.5821727  0.37765957 0.88292683 0.54200542\n",
            "  0.38092551 0.48617886 0.85084926 0.55042463 0.         0.21108059\n",
            "  0.25218914 0.76707531 0.77446103 0.79354839 0.35870144]\n",
            " [0.31648936 0.5        0.50139276 0.17021277 0.90514905 0.899729\n",
            "  0.54063205 0.50569106 0.60774947 0.67887473 0.0955414  0.\n",
            "  0.1943958  0.40805604 0.85406302 0.80322581 0.32093078]\n",
            " [0.50531915 0.31648936 0.17270195 0.27925532 0.84444444 0.68617886\n",
            "  0.47629797 0.47533875 0.96231423 0.09607219 0.00530786 0.04029304\n",
            "  0.57443082 0.64098074 0.79767828 0.86774194 0.39699607]\n",
            " [0.41489362 0.7606383  0.79387187 0.67553191 0.0704607  0.\n",
            "  0.32562077 0.55772358 0.03821656 0.         0.36995754 0.73717949\n",
            "  0.74255692 0.8704028  0.48258706 0.07903226 0.05930373]\n",
            " [0.60106383 0.37765957 0.         0.04787234 0.40542005 0.48617886\n",
            "  0.36851016 0.26558266 0.         0.24469214 0.         0.\n",
            "  0.76182137 0.77583187 0.92868988 0.91612903 0.25113644]\n",
            " [0.7606383  0.80319149 0.66016713 0.35904255 0.         0.35230352\n",
            "  0.53950339 0.8200542  0.         0.36995754 0.85456476 0.74450549\n",
            "  0.8704028  0.45359019 0.05306799 0.2016129  0.05745867]\n",
            " [0.87234043 0.47074468 0.38718663 0.31914894 0.16260163 0.70460705\n",
            "  0.74887133 0.79186992 0.15180467 0.58545648 0.77972399 0.4981685\n",
            "  0.72854641 0.13134851 0.15257048 0.02741935 0.        ]\n",
            " [0.8962766  0.50265957 0.28412256 0.45212766 0.42764228 0.80433604\n",
            "  1.         0.90894309 0.37579618 0.60774947 1.         0.48214286\n",
            "  0.50087566 0.22416813 0.21227197 0.36612903 0.50745408]\n",
            " [0.47074468 0.41489362 0.28690808 0.19148936 0.70460705 0.75880759\n",
            "  0.78329571 0.87100271 0.58545648 0.77972399 0.57749469 0.79899267\n",
            "  0.13134851 0.10507881 0.         0.34516129 0.34963782]\n",
            " [0.50265957 0.31648936 0.42618384 0.54521277 0.80433604 1.\n",
            "  0.90519187 0.84552846 0.60774947 1.         0.5589172  0.61446886\n",
            "  0.22416813 0.16812609 0.34825871 0.48548387 1.        ]\n",
            " [0.67553191 0.35904255 0.37325905 0.31648936 0.55772358 0.8200542\n",
            "  0.8013544  0.90514905 0.85456476 0.86305732 0.92091295 0.5242674\n",
            "  0.         0.13309982 0.38640133 0.25806452 0.85157624]\n",
            " [0.21010638 0.27925532 0.57381616 0.71542553 0.49701897 0.47533875\n",
            "  0.17776524 0.32357724 0.00530786 0.04670913 0.         0.09111722\n",
            "  0.78633975 0.85639229 0.92371476 0.60645161 0.19665995]\n",
            " [1.         0.8962766  0.47910864 0.31648936 0.0395664  0.42764228\n",
            "  0.7962754  1.         0.04670913 0.37579618 0.60774947 0.86263736\n",
            "  0.8966725  0.50087566 0.26533997 0.23387097 0.06620178]\n",
            " [0.5        0.52393617 0.13091922 0.         0.899729   0.55880759\n",
            "  0.48532731 0.43360434 0.67887473 0.0955414  0.         0.00137363\n",
            "  0.40805604 0.84588441 0.79767828 0.85967742 0.45998434]\n",
            " [0.59308511 0.71542553 0.69916435 0.20478723 0.2102981  0.32357724\n",
            "  0.50790068 0.97886179 0.         0.10562633 0.35562633 1.\n",
            "  0.91943958 0.57267951 0.47263682 0.         0.06441525]\n",
            " [0.45212766 0.54521277 0.48189415 0.31648936 0.90894309 0.84552846\n",
            "  0.83803612 0.68617886 0.5589172  0.71231423 0.96231423 0.08287546\n",
            "  0.3117338  0.441331   0.59701493 0.66935484 0.2165988 ]\n",
            " [0.         0.04521277 0.17827298 0.63829787 0.43360434 0.28672087\n",
            "  0.17889391 0.05420054 0.00159236 0.         0.         0.\n",
            "  0.84763573 0.98774081 0.9668325  1.         0.11612137]\n",
            " [0.54521277 0.50531915 0.28412256 0.21010638 0.84552846 0.84444444\n",
            "  0.67325056 0.49701897 0.71231423 0.96231423 0.09607219 0.00457875\n",
            "  0.441331   0.57443082 0.66003317 0.80322581 0.48128329]\n",
            " [0.35904255 0.40159574 0.28412256 0.5        0.8200542  0.80921409\n",
            "  0.90124153 0.899729   0.86305732 0.92091295 0.60774947 0.58562271\n",
            "  0.13309982 0.35201401 0.2371476  0.45483871 0.82375271]\n",
            " [0.17021277 0.         0.         0.21542553 0.50569106 0.43360434\n",
            "  0.25733634 0.21138211 0.         0.00159236 0.         0.\n",
            "  0.78633975 0.84763573 0.98839138 0.96774194 0.12957187]\n",
            " [0.21542553 0.63829787 1.         0.8962766  0.21138211 0.05420054\n",
            "  0.         0.42764228 0.         0.         0.04670913 0.32417582\n",
            "  0.96497373 1.         0.90215589 0.54032258 0.02460723]\n",
            " [0.65691489 0.60106383 0.34818942 0.04521277 0.54200542 0.40542005\n",
            "  0.46501129 0.39349593 0.55042463 0.         0.24469214 0.\n",
            "  0.76707531 0.76182137 0.78772803 0.93064516 0.48880565]\n",
            " [0.04521277 0.04787234 0.38718663 0.7606383  0.39349593 0.26558266\n",
            "  0.03216704 0.         0.         0.         0.03821656 0.\n",
            "  0.92469352 0.9089317  0.75621891 0.88064516 0.1209737 ]]\n",
            "[[ 0.31914894  0.19148936  0.2729805   0.65691489  0.79186992  0.87100271\n",
            "   0.87810384  0.54200542  0.57749469  0.92622081  0.85084926  0.47481685\n",
            "  -0.05604203  0.28896673  0.29187396  0.78548387  0.53827931]\n",
            " [ 0.52393617  0.17021277 -0.04735376  0.04521277  0.55880759  0.50569106\n",
            "   0.41027088  0.28672087  0.0955414   0.          0.00159236  0.\n",
            "   0.84588441  0.78633975  0.85572139  0.98870968  0.29437258]\n",
            " [ 0.19148936  0.30585106  0.64066852  0.60106383  0.87100271  0.88292683\n",
            "   0.5231377   0.40542005  0.92622081  0.85084926  0.55042463  0.\n",
            "   0.28896673  0.25218914  0.77943615  0.78064516  0.21747395]\n",
            " [ 0.04787234  0.41489362  0.74930362  0.80319149  0.26558266  0.0704607\n",
            "  -0.04119639  0.35230352  0.          0.03821656  0.          0.31913919\n",
            "   0.9089317   0.74255692  0.87728027  0.49677419  0.11646418]\n",
            " [ 0.31648936  0.21010638  0.24512535  0.59308511  0.68617886  0.49701897\n",
            "   0.4537246   0.2102981   0.09607219  0.00530786  0.04670913  0.\n",
            "   0.64098074  0.78633975  0.86401327  0.92580645  0.17645354]\n",
            " [ 0.41489362  0.31914894  0.15320334  0.30585106  0.75880759  0.79186992\n",
            "   0.86568849  0.88292683  0.77972399  0.57749469  0.92622081  0.73397436\n",
            "   0.10507881 -0.05604203  0.32669983  0.31129032  0.99083604]]\n"
          ],
          "name": "stdout"
        }
      ]
    },
    {
      "cell_type": "code",
      "metadata": {
        "id": "-NfcCESwc8U0"
      },
      "source": [
        "# Callbacks\n",
        "class myCallback(tf.keras.callbacks.Callback):\n",
        "  def on_epoch_end(self, epoch, logs={}):\n",
        "    if(logs.get('mae')<0.0001):\n",
        "      print(\"The MAE score has reached 0.005\")\n",
        "      self.model.stop_training = True\n",
        "\n",
        "callbacks = myCallback()"
      ],
      "execution_count": null,
      "outputs": []
    },
    {
      "cell_type": "code",
      "metadata": {
        "colab": {
          "base_uri": "https://localhost:8080/"
        },
        "id": "gblBrC68c-cE",
        "outputId": "1eb66241-87bc-437b-f409-403e0a50c580"
      },
      "source": [
        "# Model machine learning\n",
        "model = tf.keras.Sequential([\n",
        "          tf.keras.layers.Dense(units = 4096, activation=\"relu\", input_dim=17),\n",
        "          tf.keras.layers.Dropout(0.1),\n",
        "          tf.keras.layers.Dense(units = 128, activation=\"relu\"),\n",
        "          tf.keras.layers.Dense(units = 16,activation=\"relu\"),\n",
        "          tf.keras.layers.Dense(units = 1, activation=\"relu\")\n",
        "        ])\n",
        "\n",
        "opt = keras.optimizers.Adam(learning_rate=0.01)\n",
        "model.compile(optimizer=opt,\n",
        "              loss=\"mean_squared_error\",\n",
        "              metrics=['mae'])\n",
        "\n",
        "model.summary()\n",
        "\n",
        "fitting_history = model.fit(input_train_scaled, output_train, epochs = 300, validation_split=0.15, callbacks=[callbacks])"
      ],
      "execution_count": null,
      "outputs": [
        {
          "output_type": "stream",
          "text": [
            "Model: \"sequential_3\"\n",
            "_________________________________________________________________\n",
            "Layer (type)                 Output Shape              Param #   \n",
            "=================================================================\n",
            "dense_12 (Dense)             (None, 4096)              73728     \n",
            "_________________________________________________________________\n",
            "dropout_3 (Dropout)          (None, 4096)              0         \n",
            "_________________________________________________________________\n",
            "dense_13 (Dense)             (None, 128)               524416    \n",
            "_________________________________________________________________\n",
            "dense_14 (Dense)             (None, 16)                2064      \n",
            "_________________________________________________________________\n",
            "dense_15 (Dense)             (None, 1)                 17        \n",
            "=================================================================\n",
            "Total params: 600,225\n",
            "Trainable params: 600,225\n",
            "Non-trainable params: 0\n",
            "_________________________________________________________________\n",
            "Epoch 1/300\n",
            "1/1 [==============================] - 1s 544ms/step - loss: 82.9797 - mae: 7.7147 - val_loss: 22.5004 - val_mae: 4.1115\n",
            "Epoch 2/300\n",
            "1/1 [==============================] - 0s 35ms/step - loss: 30.9855 - mae: 4.8691 - val_loss: 70.4148 - val_mae: 6.4719\n",
            "Epoch 3/300\n",
            "1/1 [==============================] - 0s 39ms/step - loss: 49.2106 - mae: 5.3523 - val_loss: 49.1166 - val_mae: 5.2477\n",
            "Epoch 4/300\n",
            "1/1 [==============================] - 0s 34ms/step - loss: 31.9533 - mae: 3.9969 - val_loss: 15.0706 - val_mae: 2.8471\n",
            "Epoch 5/300\n",
            "1/1 [==============================] - 0s 37ms/step - loss: 12.2217 - mae: 2.5082 - val_loss: 6.8802 - val_mae: 2.0539\n",
            "Epoch 6/300\n",
            "1/1 [==============================] - 0s 42ms/step - loss: 30.6403 - mae: 4.8892 - val_loss: 4.0714 - val_mae: 1.8069\n",
            "Epoch 7/300\n",
            "1/1 [==============================] - 0s 32ms/step - loss: 13.0070 - mae: 2.8966 - val_loss: 16.7722 - val_mae: 3.0788\n",
            "Epoch 8/300\n",
            "1/1 [==============================] - 0s 37ms/step - loss: 10.4507 - mae: 2.2777 - val_loss: 28.0282 - val_mae: 4.1942\n",
            "Epoch 9/300\n",
            "1/1 [==============================] - 0s 36ms/step - loss: 16.8556 - mae: 2.9628 - val_loss: 27.4608 - val_mae: 4.2156\n",
            "Epoch 10/300\n",
            "1/1 [==============================] - 0s 37ms/step - loss: 16.1810 - mae: 2.9396 - val_loss: 17.2320 - val_mae: 3.2897\n",
            "Epoch 11/300\n",
            "1/1 [==============================] - 0s 35ms/step - loss: 10.5584 - mae: 2.3160 - val_loss: 5.4069 - val_mae: 1.7163\n",
            "Epoch 12/300\n",
            "1/1 [==============================] - 0s 33ms/step - loss: 6.5653 - mae: 2.0179 - val_loss: 1.5407 - val_mae: 1.0082\n",
            "Epoch 13/300\n",
            "1/1 [==============================] - 0s 38ms/step - loss: 11.5307 - mae: 2.4394 - val_loss: 1.6456 - val_mae: 1.0505\n",
            "Epoch 14/300\n",
            "1/1 [==============================] - 0s 42ms/step - loss: 10.3315 - mae: 2.3106 - val_loss: 3.5083 - val_mae: 1.3149\n",
            "Epoch 15/300\n",
            "1/1 [==============================] - 0s 32ms/step - loss: 5.1849 - mae: 1.8130 - val_loss: 9.0947 - val_mae: 2.3300\n",
            "Epoch 16/300\n",
            "1/1 [==============================] - 0s 38ms/step - loss: 5.7196 - mae: 1.8092 - val_loss: 13.1637 - val_mae: 2.8947\n",
            "Epoch 17/300\n",
            "1/1 [==============================] - 0s 37ms/step - loss: 7.7293 - mae: 2.0806 - val_loss: 12.3815 - val_mae: 2.7773\n",
            "Epoch 18/300\n",
            "1/1 [==============================] - 0s 48ms/step - loss: 7.1066 - mae: 2.0247 - val_loss: 7.7340 - val_mae: 2.0397\n",
            "Epoch 19/300\n",
            "1/1 [==============================] - 0s 34ms/step - loss: 4.5062 - mae: 1.6180 - val_loss: 3.4567 - val_mae: 1.2104\n",
            "Epoch 20/300\n",
            "1/1 [==============================] - 0s 33ms/step - loss: 3.0998 - mae: 1.3900 - val_loss: 2.6713 - val_mae: 1.3189\n",
            "Epoch 21/300\n",
            "1/1 [==============================] - 0s 31ms/step - loss: 4.5401 - mae: 1.5750 - val_loss: 2.9227 - val_mae: 1.4606\n",
            "Epoch 22/300\n",
            "1/1 [==============================] - 0s 36ms/step - loss: 4.3808 - mae: 1.4885 - val_loss: 3.0406 - val_mae: 1.1447\n",
            "Epoch 23/300\n",
            "1/1 [==============================] - 0s 34ms/step - loss: 2.5908 - mae: 1.2022 - val_loss: 4.6774 - val_mae: 1.4247\n",
            "Epoch 24/300\n",
            "1/1 [==============================] - 0s 32ms/step - loss: 2.0347 - mae: 1.0886 - val_loss: 6.4989 - val_mae: 1.6831\n",
            "Epoch 25/300\n",
            "1/1 [==============================] - 0s 32ms/step - loss: 2.8371 - mae: 1.2469 - val_loss: 6.4922 - val_mae: 1.6805\n",
            "Epoch 26/300\n",
            "1/1 [==============================] - 0s 38ms/step - loss: 2.8083 - mae: 1.2247 - val_loss: 4.7682 - val_mae: 1.4110\n",
            "Epoch 27/300\n",
            "1/1 [==============================] - 0s 43ms/step - loss: 1.5153 - mae: 0.8736 - val_loss: 3.6929 - val_mae: 1.4221\n",
            "Epoch 28/300\n",
            "1/1 [==============================] - 0s 36ms/step - loss: 1.2205 - mae: 0.8701 - val_loss: 4.3246 - val_mae: 1.8784\n",
            "Epoch 29/300\n",
            "1/1 [==============================] - 0s 30ms/step - loss: 2.2302 - mae: 1.2078 - val_loss: 4.4283 - val_mae: 1.9165\n",
            "Epoch 30/300\n",
            "1/1 [==============================] - 0s 34ms/step - loss: 1.8930 - mae: 1.1074 - val_loss: 3.9029 - val_mae: 1.5970\n",
            "Epoch 31/300\n",
            "1/1 [==============================] - 0s 36ms/step - loss: 0.8324 - mae: 0.7557 - val_loss: 4.3207 - val_mae: 1.3907\n",
            "Epoch 32/300\n",
            "1/1 [==============================] - 0s 42ms/step - loss: 0.9880 - mae: 0.6702 - val_loss: 4.9954 - val_mae: 1.5159\n",
            "Epoch 33/300\n",
            "1/1 [==============================] - 0s 47ms/step - loss: 1.5708 - mae: 0.8631 - val_loss: 4.7395 - val_mae: 1.5116\n",
            "Epoch 34/300\n",
            "1/1 [==============================] - 0s 34ms/step - loss: 1.2393 - mae: 0.8003 - val_loss: 4.0060 - val_mae: 1.4097\n",
            "Epoch 35/300\n",
            "1/1 [==============================] - 0s 36ms/step - loss: 0.7684 - mae: 0.6058 - val_loss: 3.9984 - val_mae: 1.7816\n",
            "Epoch 36/300\n",
            "1/1 [==============================] - 0s 31ms/step - loss: 0.7047 - mae: 0.6847 - val_loss: 4.3800 - val_mae: 1.9848\n",
            "Epoch 37/300\n",
            "1/1 [==============================] - 0s 42ms/step - loss: 1.2980 - mae: 0.9647 - val_loss: 4.0213 - val_mae: 1.8585\n",
            "Epoch 38/300\n",
            "1/1 [==============================] - 0s 41ms/step - loss: 0.9149 - mae: 0.7843 - val_loss: 3.6375 - val_mae: 1.5295\n",
            "Epoch 39/300\n",
            "1/1 [==============================] - 0s 31ms/step - loss: 0.5519 - mae: 0.5514 - val_loss: 3.8594 - val_mae: 1.4521\n",
            "Epoch 40/300\n",
            "1/1 [==============================] - 0s 39ms/step - loss: 0.8270 - mae: 0.6574 - val_loss: 3.9227 - val_mae: 1.4533\n",
            "Epoch 41/300\n",
            "1/1 [==============================] - 0s 31ms/step - loss: 0.8183 - mae: 0.6876 - val_loss: 3.5098 - val_mae: 1.3532\n",
            "Epoch 42/300\n",
            "1/1 [==============================] - 0s 41ms/step - loss: 0.5601 - mae: 0.5084 - val_loss: 3.1876 - val_mae: 1.4389\n",
            "Epoch 43/300\n",
            "1/1 [==============================] - 0s 36ms/step - loss: 0.4440 - mae: 0.5244 - val_loss: 3.1654 - val_mae: 1.5698\n",
            "Epoch 44/300\n",
            "1/1 [==============================] - 0s 37ms/step - loss: 0.7043 - mae: 0.6998 - val_loss: 2.9867 - val_mae: 1.4766\n",
            "Epoch 45/300\n",
            "1/1 [==============================] - 0s 37ms/step - loss: 0.5599 - mae: 0.6464 - val_loss: 2.8772 - val_mae: 1.2391\n",
            "Epoch 46/300\n",
            "1/1 [==============================] - 0s 43ms/step - loss: 0.3277 - mae: 0.4754 - val_loss: 3.1169 - val_mae: 1.2158\n",
            "Epoch 47/300\n",
            "1/1 [==============================] - 0s 62ms/step - loss: 0.4240 - mae: 0.4731 - val_loss: 3.1818 - val_mae: 1.2630\n",
            "Epoch 48/300\n",
            "1/1 [==============================] - 0s 39ms/step - loss: 0.4990 - mae: 0.5296 - val_loss: 2.8106 - val_mae: 1.1674\n",
            "Epoch 49/300\n",
            "1/1 [==============================] - 0s 37ms/step - loss: 0.3422 - mae: 0.4333 - val_loss: 2.4357 - val_mae: 1.1608\n",
            "Epoch 50/300\n",
            "1/1 [==============================] - 0s 38ms/step - loss: 0.3052 - mae: 0.4737 - val_loss: 2.3420 - val_mae: 1.2592\n",
            "Epoch 51/300\n",
            "1/1 [==============================] - 0s 55ms/step - loss: 0.4046 - mae: 0.5489 - val_loss: 2.2968 - val_mae: 1.2095\n",
            "Epoch 52/300\n",
            "1/1 [==============================] - 0s 54ms/step - loss: 0.3560 - mae: 0.5123 - val_loss: 2.3580 - val_mae: 1.0616\n",
            "Epoch 53/300\n",
            "1/1 [==============================] - 0s 36ms/step - loss: 0.1932 - mae: 0.3698 - val_loss: 2.6153 - val_mae: 1.1267\n",
            "Epoch 54/300\n",
            "1/1 [==============================] - 0s 42ms/step - loss: 0.3867 - mae: 0.4639 - val_loss: 2.6568 - val_mae: 1.1296\n",
            "Epoch 55/300\n",
            "1/1 [==============================] - 0s 32ms/step - loss: 0.2572 - mae: 0.3770 - val_loss: 2.4745 - val_mae: 1.0489\n",
            "Epoch 56/300\n",
            "1/1 [==============================] - 0s 29ms/step - loss: 0.1620 - mae: 0.3190 - val_loss: 2.3010 - val_mae: 1.0824\n",
            "Epoch 57/300\n",
            "1/1 [==============================] - 0s 36ms/step - loss: 0.1908 - mae: 0.3720 - val_loss: 2.2361 - val_mae: 1.1167\n",
            "Epoch 58/300\n",
            "1/1 [==============================] - 0s 45ms/step - loss: 0.3398 - mae: 0.4672 - val_loss: 2.2822 - val_mae: 1.0757\n",
            "Epoch 59/300\n",
            "1/1 [==============================] - 0s 42ms/step - loss: 0.1738 - mae: 0.3627 - val_loss: 2.3858 - val_mae: 1.0295\n",
            "Epoch 60/300\n",
            "1/1 [==============================] - 0s 43ms/step - loss: 0.1957 - mae: 0.3737 - val_loss: 2.4332 - val_mae: 1.0608\n",
            "Epoch 61/300\n",
            "1/1 [==============================] - 0s 33ms/step - loss: 0.1953 - mae: 0.3211 - val_loss: 2.3410 - val_mae: 1.0237\n",
            "Epoch 62/300\n",
            "1/1 [==============================] - 0s 32ms/step - loss: 0.1567 - mae: 0.2897 - val_loss: 2.2531 - val_mae: 1.0566\n",
            "Epoch 63/300\n",
            "1/1 [==============================] - 0s 39ms/step - loss: 0.1307 - mae: 0.2962 - val_loss: 2.1993 - val_mae: 1.0985\n",
            "Epoch 64/300\n",
            "1/1 [==============================] - 0s 32ms/step - loss: 0.1194 - mae: 0.3004 - val_loss: 2.2009 - val_mae: 1.1078\n",
            "Epoch 65/300\n",
            "1/1 [==============================] - 0s 37ms/step - loss: 0.1398 - mae: 0.3109 - val_loss: 2.2290 - val_mae: 1.0877\n",
            "Epoch 66/300\n",
            "1/1 [==============================] - 0s 36ms/step - loss: 0.1630 - mae: 0.3311 - val_loss: 2.3091 - val_mae: 1.0421\n",
            "Epoch 67/300\n",
            "1/1 [==============================] - 0s 34ms/step - loss: 0.1285 - mae: 0.2948 - val_loss: 2.3573 - val_mae: 1.0205\n",
            "Epoch 68/300\n",
            "1/1 [==============================] - 0s 45ms/step - loss: 0.1678 - mae: 0.2926 - val_loss: 2.3411 - val_mae: 1.0330\n",
            "Epoch 69/300\n",
            "1/1 [==============================] - 0s 53ms/step - loss: 0.1674 - mae: 0.3132 - val_loss: 2.2780 - val_mae: 1.0652\n",
            "Epoch 70/300\n",
            "1/1 [==============================] - 0s 39ms/step - loss: 0.1360 - mae: 0.2838 - val_loss: 2.2413 - val_mae: 1.1081\n",
            "Epoch 71/300\n",
            "1/1 [==============================] - 0s 46ms/step - loss: 0.1579 - mae: 0.3256 - val_loss: 2.2586 - val_mae: 1.0910\n",
            "Epoch 72/300\n",
            "1/1 [==============================] - 0s 43ms/step - loss: 0.1169 - mae: 0.2692 - val_loss: 2.3024 - val_mae: 1.0567\n",
            "Epoch 73/300\n",
            "1/1 [==============================] - 0s 36ms/step - loss: 0.1249 - mae: 0.2601 - val_loss: 2.3364 - val_mae: 1.0315\n",
            "Epoch 74/300\n",
            "1/1 [==============================] - 0s 46ms/step - loss: 0.1285 - mae: 0.2810 - val_loss: 2.3097 - val_mae: 1.0340\n",
            "Epoch 75/300\n",
            "1/1 [==============================] - 0s 36ms/step - loss: 0.1064 - mae: 0.2496 - val_loss: 2.2696 - val_mae: 1.0425\n",
            "Epoch 76/300\n",
            "1/1 [==============================] - 0s 38ms/step - loss: 0.1532 - mae: 0.3055 - val_loss: 2.2127 - val_mae: 1.0705\n",
            "Epoch 77/300\n",
            "1/1 [==============================] - 0s 39ms/step - loss: 0.1226 - mae: 0.2780 - val_loss: 2.2193 - val_mae: 1.0604\n",
            "Epoch 78/300\n",
            "1/1 [==============================] - 0s 39ms/step - loss: 0.1057 - mae: 0.2643 - val_loss: 2.2634 - val_mae: 1.0290\n",
            "Epoch 79/300\n",
            "1/1 [==============================] - 0s 40ms/step - loss: 0.0744 - mae: 0.2133 - val_loss: 2.2937 - val_mae: 1.0137\n",
            "Epoch 80/300\n",
            "1/1 [==============================] - 0s 46ms/step - loss: 0.1019 - mae: 0.2541 - val_loss: 2.3227 - val_mae: 1.0033\n",
            "Epoch 81/300\n",
            "1/1 [==============================] - 0s 37ms/step - loss: 0.0959 - mae: 0.2338 - val_loss: 2.2688 - val_mae: 1.0246\n",
            "Epoch 82/300\n",
            "1/1 [==============================] - 0s 39ms/step - loss: 0.1052 - mae: 0.2433 - val_loss: 2.1842 - val_mae: 1.0600\n",
            "Epoch 83/300\n",
            "1/1 [==============================] - 0s 33ms/step - loss: 0.0986 - mae: 0.2527 - val_loss: 2.1709 - val_mae: 1.0507\n",
            "Epoch 84/300\n",
            "1/1 [==============================] - 0s 40ms/step - loss: 0.1252 - mae: 0.2940 - val_loss: 2.1993 - val_mae: 1.0201\n",
            "Epoch 85/300\n",
            "1/1 [==============================] - 0s 43ms/step - loss: 0.0718 - mae: 0.2061 - val_loss: 2.2563 - val_mae: 0.9871\n",
            "Epoch 86/300\n",
            "1/1 [==============================] - 0s 40ms/step - loss: 0.0919 - mae: 0.2323 - val_loss: 2.2152 - val_mae: 0.9894\n",
            "Epoch 87/300\n",
            "1/1 [==============================] - 0s 41ms/step - loss: 0.1326 - mae: 0.2797 - val_loss: 2.1043 - val_mae: 1.0364\n",
            "Epoch 88/300\n",
            "1/1 [==============================] - 0s 36ms/step - loss: 0.1041 - mae: 0.2519 - val_loss: 2.0564 - val_mae: 1.0599\n",
            "Epoch 89/300\n",
            "1/1 [==============================] - 0s 44ms/step - loss: 0.0988 - mae: 0.2667 - val_loss: 2.0790 - val_mae: 1.0458\n",
            "Epoch 90/300\n",
            "1/1 [==============================] - 0s 58ms/step - loss: 0.0708 - mae: 0.2155 - val_loss: 2.1612 - val_mae: 1.0025\n",
            "Epoch 91/300\n",
            "1/1 [==============================] - 0s 42ms/step - loss: 0.1010 - mae: 0.2430 - val_loss: 2.2332 - val_mae: 0.9812\n",
            "Epoch 92/300\n",
            "1/1 [==============================] - 0s 43ms/step - loss: 0.0872 - mae: 0.2165 - val_loss: 2.2217 - val_mae: 0.9845\n",
            "Epoch 93/300\n",
            "1/1 [==============================] - 0s 36ms/step - loss: 0.1376 - mae: 0.3128 - val_loss: 2.1142 - val_mae: 1.0279\n",
            "Epoch 94/300\n",
            "1/1 [==============================] - 0s 40ms/step - loss: 0.0790 - mae: 0.2289 - val_loss: 2.0777 - val_mae: 1.0432\n",
            "Epoch 95/300\n",
            "1/1 [==============================] - 0s 36ms/step - loss: 0.0832 - mae: 0.2413 - val_loss: 2.0867 - val_mae: 1.0204\n",
            "Epoch 96/300\n",
            "1/1 [==============================] - 0s 53ms/step - loss: 0.0929 - mae: 0.2341 - val_loss: 2.1717 - val_mae: 0.9657\n",
            "Epoch 97/300\n",
            "1/1 [==============================] - 0s 36ms/step - loss: 0.0836 - mae: 0.2113 - val_loss: 2.1947 - val_mae: 0.9600\n",
            "Epoch 98/300\n",
            "1/1 [==============================] - 0s 39ms/step - loss: 0.0931 - mae: 0.2325 - val_loss: 2.1454 - val_mae: 0.9934\n",
            "Epoch 99/300\n",
            "1/1 [==============================] - 0s 40ms/step - loss: 0.0815 - mae: 0.2169 - val_loss: 2.1057 - val_mae: 1.0308\n",
            "Epoch 100/300\n",
            "1/1 [==============================] - 0s 43ms/step - loss: 0.0602 - mae: 0.1970 - val_loss: 2.0834 - val_mae: 1.0653\n",
            "Epoch 101/300\n",
            "1/1 [==============================] - 0s 37ms/step - loss: 0.0948 - mae: 0.2439 - val_loss: 2.1309 - val_mae: 1.0298\n",
            "Epoch 102/300\n",
            "1/1 [==============================] - 0s 33ms/step - loss: 0.0899 - mae: 0.2359 - val_loss: 2.2083 - val_mae: 0.9895\n",
            "Epoch 103/300\n",
            "1/1 [==============================] - 0s 37ms/step - loss: 0.0595 - mae: 0.1782 - val_loss: 2.2282 - val_mae: 0.9739\n",
            "Epoch 104/300\n",
            "1/1 [==============================] - 0s 43ms/step - loss: 0.0907 - mae: 0.2353 - val_loss: 2.1505 - val_mae: 0.9927\n",
            "Epoch 105/300\n",
            "1/1 [==============================] - 0s 47ms/step - loss: 0.0624 - mae: 0.2099 - val_loss: 2.0435 - val_mae: 1.0500\n",
            "Epoch 106/300\n",
            "1/1 [==============================] - 0s 34ms/step - loss: 0.0988 - mae: 0.2555 - val_loss: 2.0313 - val_mae: 1.0433\n",
            "Epoch 107/300\n",
            "1/1 [==============================] - 0s 35ms/step - loss: 0.0806 - mae: 0.2385 - val_loss: 2.0862 - val_mae: 0.9864\n",
            "Epoch 108/300\n",
            "1/1 [==============================] - 0s 38ms/step - loss: 0.0571 - mae: 0.1962 - val_loss: 2.1186 - val_mae: 0.9553\n",
            "Epoch 109/300\n",
            "1/1 [==============================] - 0s 48ms/step - loss: 0.0838 - mae: 0.2230 - val_loss: 2.0847 - val_mae: 0.9543\n",
            "Epoch 110/300\n",
            "1/1 [==============================] - 0s 33ms/step - loss: 0.0743 - mae: 0.2127 - val_loss: 2.0640 - val_mae: 0.9573\n",
            "Epoch 111/300\n",
            "1/1 [==============================] - 0s 33ms/step - loss: 0.0820 - mae: 0.2312 - val_loss: 2.0726 - val_mae: 0.9489\n",
            "Epoch 112/300\n",
            "1/1 [==============================] - 0s 37ms/step - loss: 0.0426 - mae: 0.1654 - val_loss: 2.1109 - val_mae: 0.9355\n",
            "Epoch 113/300\n",
            "1/1 [==============================] - 0s 34ms/step - loss: 0.1049 - mae: 0.2552 - val_loss: 2.0710 - val_mae: 0.9445\n",
            "Epoch 114/300\n",
            "1/1 [==============================] - 0s 46ms/step - loss: 0.0750 - mae: 0.2020 - val_loss: 1.9971 - val_mae: 0.9836\n",
            "Epoch 115/300\n",
            "1/1 [==============================] - 0s 36ms/step - loss: 0.0731 - mae: 0.2201 - val_loss: 2.0224 - val_mae: 0.9828\n",
            "Epoch 116/300\n",
            "1/1 [==============================] - 0s 35ms/step - loss: 0.0635 - mae: 0.2208 - val_loss: 2.1003 - val_mae: 0.9676\n",
            "Epoch 117/300\n",
            "1/1 [==============================] - 0s 35ms/step - loss: 0.0527 - mae: 0.1782 - val_loss: 2.1462 - val_mae: 0.9697\n",
            "Epoch 118/300\n",
            "1/1 [==============================] - 0s 40ms/step - loss: 0.0583 - mae: 0.1957 - val_loss: 2.1217 - val_mae: 0.9851\n",
            "Epoch 119/300\n",
            "1/1 [==============================] - 0s 37ms/step - loss: 0.0876 - mae: 0.2187 - val_loss: 2.0816 - val_mae: 0.9944\n",
            "Epoch 120/300\n",
            "1/1 [==============================] - 0s 45ms/step - loss: 0.0775 - mae: 0.2219 - val_loss: 2.0638 - val_mae: 0.9829\n",
            "Epoch 121/300\n",
            "1/1 [==============================] - 0s 42ms/step - loss: 0.0607 - mae: 0.1981 - val_loss: 2.0329 - val_mae: 0.9743\n",
            "Epoch 122/300\n",
            "1/1 [==============================] - 0s 47ms/step - loss: 0.0637 - mae: 0.2110 - val_loss: 2.0057 - val_mae: 0.9584\n",
            "Epoch 123/300\n",
            "1/1 [==============================] - 0s 39ms/step - loss: 0.0608 - mae: 0.2062 - val_loss: 1.9290 - val_mae: 0.9907\n",
            "Epoch 124/300\n",
            "1/1 [==============================] - 0s 40ms/step - loss: 0.0761 - mae: 0.2169 - val_loss: 1.9255 - val_mae: 0.9802\n",
            "Epoch 125/300\n",
            "1/1 [==============================] - 0s 39ms/step - loss: 0.0459 - mae: 0.1729 - val_loss: 1.9764 - val_mae: 0.9457\n",
            "Epoch 126/300\n",
            "1/1 [==============================] - 0s 35ms/step - loss: 0.0749 - mae: 0.2079 - val_loss: 1.9680 - val_mae: 0.9663\n",
            "Epoch 127/300\n",
            "1/1 [==============================] - 0s 34ms/step - loss: 0.0604 - mae: 0.2019 - val_loss: 1.9543 - val_mae: 1.0043\n",
            "Epoch 128/300\n",
            "1/1 [==============================] - 0s 45ms/step - loss: 0.0554 - mae: 0.1885 - val_loss: 1.9931 - val_mae: 0.9961\n",
            "Epoch 129/300\n",
            "1/1 [==============================] - 0s 45ms/step - loss: 0.0705 - mae: 0.1943 - val_loss: 2.0590 - val_mae: 0.9682\n",
            "Epoch 130/300\n",
            "1/1 [==============================] - 0s 32ms/step - loss: 0.0469 - mae: 0.1825 - val_loss: 2.1316 - val_mae: 0.9403\n",
            "Epoch 131/300\n",
            "1/1 [==============================] - 0s 36ms/step - loss: 0.0664 - mae: 0.1935 - val_loss: 2.0971 - val_mae: 0.9540\n",
            "Epoch 132/300\n",
            "1/1 [==============================] - 0s 34ms/step - loss: 0.0454 - mae: 0.1610 - val_loss: 2.0173 - val_mae: 0.9912\n",
            "Epoch 133/300\n",
            "1/1 [==============================] - 0s 40ms/step - loss: 0.0536 - mae: 0.1820 - val_loss: 1.9698 - val_mae: 1.0074\n",
            "Epoch 134/300\n",
            "1/1 [==============================] - 0s 43ms/step - loss: 0.0751 - mae: 0.2278 - val_loss: 2.0442 - val_mae: 0.9471\n",
            "Epoch 135/300\n",
            "1/1 [==============================] - 0s 46ms/step - loss: 0.0462 - mae: 0.1655 - val_loss: 2.1913 - val_mae: 0.9164\n",
            "Epoch 136/300\n",
            "1/1 [==============================] - 0s 35ms/step - loss: 0.1234 - mae: 0.2772 - val_loss: 2.0237 - val_mae: 0.9390\n",
            "Epoch 137/300\n",
            "1/1 [==============================] - 0s 32ms/step - loss: 0.0687 - mae: 0.2016 - val_loss: 1.9210 - val_mae: 1.0077\n",
            "Epoch 138/300\n",
            "1/1 [==============================] - 0s 44ms/step - loss: 0.0553 - mae: 0.1908 - val_loss: 1.9326 - val_mae: 1.0327\n",
            "Epoch 139/300\n",
            "1/1 [==============================] - 0s 35ms/step - loss: 0.1372 - mae: 0.3064 - val_loss: 2.0979 - val_mae: 0.9313\n",
            "Epoch 140/300\n",
            "1/1 [==============================] - 0s 41ms/step - loss: 0.0620 - mae: 0.1855 - val_loss: 2.2914 - val_mae: 0.9473\n",
            "Epoch 141/300\n",
            "1/1 [==============================] - 0s 35ms/step - loss: 0.1490 - mae: 0.3318 - val_loss: 2.0479 - val_mae: 0.9254\n",
            "Epoch 142/300\n",
            "1/1 [==============================] - 0s 36ms/step - loss: 0.0520 - mae: 0.1923 - val_loss: 1.9201 - val_mae: 0.9692\n",
            "Epoch 143/300\n",
            "1/1 [==============================] - 0s 53ms/step - loss: 0.0604 - mae: 0.2105 - val_loss: 1.8931 - val_mae: 1.0202\n",
            "Epoch 144/300\n",
            "1/1 [==============================] - 0s 35ms/step - loss: 0.0941 - mae: 0.2776 - val_loss: 1.9967 - val_mae: 0.9471\n",
            "Epoch 145/300\n",
            "1/1 [==============================] - 0s 34ms/step - loss: 0.0411 - mae: 0.1668 - val_loss: 2.2258 - val_mae: 0.9378\n",
            "Epoch 146/300\n",
            "1/1 [==============================] - 0s 37ms/step - loss: 0.0780 - mae: 0.2363 - val_loss: 2.1756 - val_mae: 0.9225\n",
            "Epoch 147/300\n",
            "1/1 [==============================] - 0s 39ms/step - loss: 0.1380 - mae: 0.2984 - val_loss: 1.9011 - val_mae: 0.9972\n",
            "Epoch 148/300\n",
            "1/1 [==============================] - 0s 39ms/step - loss: 0.0727 - mae: 0.2198 - val_loss: 1.8803 - val_mae: 1.0474\n",
            "Epoch 149/300\n",
            "1/1 [==============================] - 0s 37ms/step - loss: 0.1139 - mae: 0.2815 - val_loss: 1.9152 - val_mae: 0.9625\n",
            "Epoch 150/300\n",
            "1/1 [==============================] - 0s 35ms/step - loss: 0.0333 - mae: 0.1453 - val_loss: 2.1194 - val_mae: 0.8916\n",
            "Epoch 151/300\n",
            "1/1 [==============================] - 0s 34ms/step - loss: 0.1178 - mae: 0.2808 - val_loss: 2.0185 - val_mae: 0.9139\n",
            "Epoch 152/300\n",
            "1/1 [==============================] - 0s 39ms/step - loss: 0.0587 - mae: 0.2035 - val_loss: 1.8730 - val_mae: 0.9921\n",
            "Epoch 153/300\n",
            "1/1 [==============================] - 0s 43ms/step - loss: 0.0601 - mae: 0.1970 - val_loss: 1.8606 - val_mae: 1.0005\n",
            "Epoch 154/300\n",
            "1/1 [==============================] - 0s 34ms/step - loss: 0.0868 - mae: 0.2468 - val_loss: 1.9825 - val_mae: 0.9250\n",
            "Epoch 155/300\n",
            "1/1 [==============================] - 0s 40ms/step - loss: 0.0607 - mae: 0.1992 - val_loss: 2.2173 - val_mae: 0.9310\n",
            "Epoch 156/300\n",
            "1/1 [==============================] - 0s 34ms/step - loss: 0.1455 - mae: 0.3131 - val_loss: 2.0086 - val_mae: 0.9246\n",
            "Epoch 157/300\n",
            "1/1 [==============================] - 0s 38ms/step - loss: 0.0442 - mae: 0.1631 - val_loss: 1.9065 - val_mae: 1.0055\n",
            "Epoch 158/300\n",
            "1/1 [==============================] - 0s 38ms/step - loss: 0.0940 - mae: 0.2695 - val_loss: 1.9561 - val_mae: 0.9941\n",
            "Epoch 159/300\n",
            "1/1 [==============================] - 0s 41ms/step - loss: 0.1570 - mae: 0.2836 - val_loss: 2.2763 - val_mae: 0.9352\n",
            "Epoch 160/300\n",
            "1/1 [==============================] - 0s 34ms/step - loss: 0.1170 - mae: 0.2915 - val_loss: 2.2422 - val_mae: 0.9354\n",
            "Epoch 161/300\n",
            "1/1 [==============================] - 0s 32ms/step - loss: 0.1183 - mae: 0.2861 - val_loss: 1.9326 - val_mae: 0.9817\n",
            "Epoch 162/300\n",
            "1/1 [==============================] - 0s 41ms/step - loss: 0.0659 - mae: 0.2155 - val_loss: 1.9104 - val_mae: 1.0746\n",
            "Epoch 163/300\n",
            "1/1 [==============================] - 0s 44ms/step - loss: 0.1658 - mae: 0.3521 - val_loss: 2.0099 - val_mae: 0.9302\n",
            "Epoch 164/300\n",
            "1/1 [==============================] - 0s 38ms/step - loss: 0.0368 - mae: 0.1500 - val_loss: 2.2773 - val_mae: 0.9322\n",
            "Epoch 165/300\n",
            "1/1 [==============================] - 0s 39ms/step - loss: 0.1178 - mae: 0.2807 - val_loss: 2.1582 - val_mae: 0.8852\n",
            "Epoch 166/300\n",
            "1/1 [==============================] - 0s 39ms/step - loss: 0.0965 - mae: 0.2535 - val_loss: 1.9054 - val_mae: 1.0111\n",
            "Epoch 167/300\n",
            "1/1 [==============================] - 0s 36ms/step - loss: 0.1236 - mae: 0.2935 - val_loss: 1.8997 - val_mae: 1.0225\n",
            "Epoch 168/300\n",
            "1/1 [==============================] - 0s 39ms/step - loss: 0.1247 - mae: 0.2970 - val_loss: 2.0287 - val_mae: 0.9094\n",
            "Epoch 169/300\n",
            "1/1 [==============================] - 0s 38ms/step - loss: 0.0280 - mae: 0.1211 - val_loss: 2.3178 - val_mae: 0.9710\n",
            "Epoch 170/300\n",
            "1/1 [==============================] - 0s 49ms/step - loss: 0.1473 - mae: 0.3438 - val_loss: 2.0434 - val_mae: 0.8841\n",
            "Epoch 171/300\n",
            "1/1 [==============================] - 0s 38ms/step - loss: 0.0636 - mae: 0.2127 - val_loss: 1.7781 - val_mae: 1.0023\n",
            "Epoch 172/300\n",
            "1/1 [==============================] - 0s 41ms/step - loss: 0.1025 - mae: 0.2908 - val_loss: 1.7823 - val_mae: 1.0381\n",
            "Epoch 173/300\n",
            "1/1 [==============================] - 0s 44ms/step - loss: 0.1994 - mae: 0.3936 - val_loss: 2.0648 - val_mae: 0.8992\n",
            "Epoch 174/300\n",
            "1/1 [==============================] - 0s 46ms/step - loss: 0.0683 - mae: 0.2000 - val_loss: 2.3441 - val_mae: 0.9937\n",
            "Epoch 175/300\n",
            "1/1 [==============================] - 0s 38ms/step - loss: 0.2072 - mae: 0.3926 - val_loss: 1.9398 - val_mae: 0.9230\n",
            "Epoch 176/300\n",
            "1/1 [==============================] - 0s 45ms/step - loss: 0.0543 - mae: 0.1914 - val_loss: 1.8676 - val_mae: 1.0185\n",
            "Epoch 177/300\n",
            "1/1 [==============================] - 0s 41ms/step - loss: 0.1265 - mae: 0.3275 - val_loss: 1.9720 - val_mae: 0.9619\n",
            "Epoch 178/300\n",
            "1/1 [==============================] - 0s 37ms/step - loss: 0.0700 - mae: 0.2140 - val_loss: 2.2689 - val_mae: 0.9261\n",
            "Epoch 179/300\n",
            "1/1 [==============================] - 0s 36ms/step - loss: 0.0785 - mae: 0.2319 - val_loss: 2.2848 - val_mae: 0.9413\n",
            "Epoch 180/300\n",
            "1/1 [==============================] - 0s 42ms/step - loss: 0.0907 - mae: 0.2619 - val_loss: 1.9654 - val_mae: 0.9305\n",
            "Epoch 181/300\n",
            "1/1 [==============================] - 0s 36ms/step - loss: 0.0438 - mae: 0.1723 - val_loss: 1.8658 - val_mae: 1.0243\n",
            "Epoch 182/300\n",
            "1/1 [==============================] - 0s 46ms/step - loss: 0.1375 - mae: 0.3269 - val_loss: 1.9823 - val_mae: 0.9052\n",
            "Epoch 183/300\n",
            "1/1 [==============================] - 0s 40ms/step - loss: 0.0266 - mae: 0.1261 - val_loss: 2.2564 - val_mae: 0.9489\n",
            "Epoch 184/300\n",
            "1/1 [==============================] - 0s 40ms/step - loss: 0.1224 - mae: 0.2838 - val_loss: 2.0840 - val_mae: 0.8815\n",
            "Epoch 185/300\n",
            "1/1 [==============================] - 0s 37ms/step - loss: 0.0392 - mae: 0.1579 - val_loss: 1.8830 - val_mae: 0.9458\n",
            "Epoch 186/300\n",
            "1/1 [==============================] - 0s 40ms/step - loss: 0.0661 - mae: 0.2120 - val_loss: 1.8742 - val_mae: 0.9404\n",
            "Epoch 187/300\n",
            "1/1 [==============================] - 0s 38ms/step - loss: 0.0485 - mae: 0.1868 - val_loss: 1.9737 - val_mae: 0.8857\n",
            "Epoch 188/300\n",
            "1/1 [==============================] - 0s 36ms/step - loss: 0.0358 - mae: 0.1467 - val_loss: 2.0082 - val_mae: 0.8703\n",
            "Epoch 189/300\n",
            "1/1 [==============================] - 0s 63ms/step - loss: 0.0688 - mae: 0.2049 - val_loss: 1.8549 - val_mae: 0.9309\n",
            "Epoch 190/300\n",
            "1/1 [==============================] - 0s 34ms/step - loss: 0.0693 - mae: 0.1948 - val_loss: 1.8632 - val_mae: 0.9180\n",
            "Epoch 191/300\n",
            "1/1 [==============================] - 0s 41ms/step - loss: 0.0469 - mae: 0.1788 - val_loss: 1.8817 - val_mae: 0.9051\n",
            "Epoch 192/300\n",
            "1/1 [==============================] - 0s 34ms/step - loss: 0.0353 - mae: 0.1575 - val_loss: 1.8853 - val_mae: 0.9176\n",
            "Epoch 193/300\n",
            "1/1 [==============================] - 0s 35ms/step - loss: 0.0310 - mae: 0.1389 - val_loss: 1.9046 - val_mae: 0.9318\n",
            "Epoch 194/300\n",
            "1/1 [==============================] - 0s 39ms/step - loss: 0.0318 - mae: 0.1505 - val_loss: 1.9726 - val_mae: 0.9186\n",
            "Epoch 195/300\n",
            "1/1 [==============================] - 0s 39ms/step - loss: 0.0456 - mae: 0.1731 - val_loss: 2.0021 - val_mae: 0.8996\n",
            "Epoch 196/300\n",
            "1/1 [==============================] - 0s 41ms/step - loss: 0.0449 - mae: 0.1639 - val_loss: 1.9184 - val_mae: 0.9158\n",
            "Epoch 197/300\n",
            "1/1 [==============================] - 0s 45ms/step - loss: 0.0605 - mae: 0.1763 - val_loss: 1.9778 - val_mae: 0.8716\n",
            "Epoch 198/300\n",
            "1/1 [==============================] - 0s 41ms/step - loss: 0.0386 - mae: 0.1702 - val_loss: 1.9065 - val_mae: 0.8671\n",
            "Epoch 199/300\n",
            "1/1 [==============================] - 0s 37ms/step - loss: 0.0445 - mae: 0.1916 - val_loss: 1.8498 - val_mae: 0.8927\n",
            "Epoch 200/300\n",
            "1/1 [==============================] - 0s 42ms/step - loss: 0.0541 - mae: 0.1807 - val_loss: 1.8302 - val_mae: 0.9391\n",
            "Epoch 201/300\n",
            "1/1 [==============================] - 0s 49ms/step - loss: 0.0643 - mae: 0.2131 - val_loss: 1.9617 - val_mae: 0.8922\n",
            "Epoch 202/300\n",
            "1/1 [==============================] - 0s 41ms/step - loss: 0.0324 - mae: 0.1265 - val_loss: 2.0643 - val_mae: 0.8733\n",
            "Epoch 203/300\n",
            "1/1 [==============================] - 0s 46ms/step - loss: 0.0365 - mae: 0.1493 - val_loss: 1.9881 - val_mae: 0.9047\n",
            "Epoch 204/300\n",
            "1/1 [==============================] - 0s 39ms/step - loss: 0.0378 - mae: 0.1647 - val_loss: 1.8684 - val_mae: 0.9677\n",
            "Epoch 205/300\n",
            "1/1 [==============================] - 0s 43ms/step - loss: 0.0644 - mae: 0.2150 - val_loss: 1.8984 - val_mae: 0.9347\n",
            "Epoch 206/300\n",
            "1/1 [==============================] - 0s 45ms/step - loss: 0.0308 - mae: 0.1482 - val_loss: 2.0499 - val_mae: 0.8639\n",
            "Epoch 207/300\n",
            "1/1 [==============================] - 0s 39ms/step - loss: 0.0847 - mae: 0.2286 - val_loss: 1.9070 - val_mae: 0.9056\n",
            "Epoch 208/300\n",
            "1/1 [==============================] - 0s 73ms/step - loss: 0.0301 - mae: 0.1417 - val_loss: 1.8662 - val_mae: 0.9365\n",
            "Epoch 209/300\n",
            "1/1 [==============================] - 0s 42ms/step - loss: 0.0315 - mae: 0.1391 - val_loss: 1.8828 - val_mae: 0.9311\n",
            "Epoch 210/300\n",
            "1/1 [==============================] - 0s 43ms/step - loss: 0.0412 - mae: 0.1637 - val_loss: 1.9645 - val_mae: 0.8860\n",
            "Epoch 211/300\n",
            "1/1 [==============================] - 0s 40ms/step - loss: 0.0419 - mae: 0.1616 - val_loss: 2.0664 - val_mae: 0.8954\n",
            "Epoch 212/300\n",
            "1/1 [==============================] - 0s 41ms/step - loss: 0.0526 - mae: 0.1952 - val_loss: 1.9305 - val_mae: 0.8813\n",
            "Epoch 213/300\n",
            "1/1 [==============================] - 0s 43ms/step - loss: 0.0640 - mae: 0.1925 - val_loss: 1.8192 - val_mae: 0.9962\n",
            "Epoch 214/300\n",
            "1/1 [==============================] - 0s 41ms/step - loss: 0.0934 - mae: 0.2537 - val_loss: 1.8955 - val_mae: 0.9277\n",
            "Epoch 215/300\n",
            "1/1 [==============================] - 0s 48ms/step - loss: 0.0339 - mae: 0.1475 - val_loss: 2.0970 - val_mae: 0.8840\n",
            "Epoch 216/300\n",
            "1/1 [==============================] - 0s 41ms/step - loss: 0.0376 - mae: 0.1550 - val_loss: 2.1961 - val_mae: 0.9268\n",
            "Epoch 217/300\n",
            "1/1 [==============================] - 0s 40ms/step - loss: 0.0983 - mae: 0.2379 - val_loss: 1.9258 - val_mae: 0.9229\n",
            "Epoch 218/300\n",
            "1/1 [==============================] - 0s 39ms/step - loss: 0.0537 - mae: 0.1668 - val_loss: 1.8452 - val_mae: 0.9774\n",
            "Epoch 219/300\n",
            "1/1 [==============================] - 0s 39ms/step - loss: 0.0520 - mae: 0.1986 - val_loss: 1.8863 - val_mae: 0.9548\n",
            "Epoch 220/300\n",
            "1/1 [==============================] - 0s 35ms/step - loss: 0.0684 - mae: 0.2141 - val_loss: 2.2209 - val_mae: 0.9308\n",
            "Epoch 221/300\n",
            "1/1 [==============================] - 0s 42ms/step - loss: 0.0803 - mae: 0.2263 - val_loss: 2.2039 - val_mae: 0.9157\n",
            "Epoch 222/300\n",
            "1/1 [==============================] - 0s 40ms/step - loss: 0.1264 - mae: 0.2852 - val_loss: 1.8769 - val_mae: 1.0056\n",
            "Epoch 223/300\n",
            "1/1 [==============================] - 0s 33ms/step - loss: 0.1159 - mae: 0.2899 - val_loss: 1.8798 - val_mae: 0.9906\n",
            "Epoch 224/300\n",
            "1/1 [==============================] - 0s 34ms/step - loss: 0.0647 - mae: 0.2159 - val_loss: 2.0884 - val_mae: 0.8669\n",
            "Epoch 225/300\n",
            "1/1 [==============================] - 0s 42ms/step - loss: 0.0864 - mae: 0.2300 - val_loss: 2.0531 - val_mae: 0.8816\n",
            "Epoch 226/300\n",
            "1/1 [==============================] - 0s 38ms/step - loss: 0.0345 - mae: 0.1571 - val_loss: 1.9130 - val_mae: 0.9394\n",
            "Epoch 227/300\n",
            "1/1 [==============================] - 0s 48ms/step - loss: 0.0466 - mae: 0.1724 - val_loss: 1.9238 - val_mae: 0.9242\n",
            "Epoch 228/300\n",
            "1/1 [==============================] - 0s 37ms/step - loss: 0.0338 - mae: 0.1588 - val_loss: 2.0068 - val_mae: 0.8846\n",
            "Epoch 229/300\n",
            "1/1 [==============================] - 0s 36ms/step - loss: 0.0385 - mae: 0.1578 - val_loss: 1.9657 - val_mae: 0.8875\n",
            "Epoch 230/300\n",
            "1/1 [==============================] - 0s 38ms/step - loss: 0.0392 - mae: 0.1550 - val_loss: 1.8839 - val_mae: 0.9297\n",
            "Epoch 231/300\n",
            "1/1 [==============================] - 0s 37ms/step - loss: 0.0244 - mae: 0.1250 - val_loss: 1.8968 - val_mae: 0.9347\n",
            "Epoch 232/300\n",
            "1/1 [==============================] - 0s 52ms/step - loss: 0.0401 - mae: 0.1668 - val_loss: 2.0190 - val_mae: 0.8841\n",
            "Epoch 233/300\n",
            "1/1 [==============================] - 0s 37ms/step - loss: 0.0370 - mae: 0.1510 - val_loss: 2.0553 - val_mae: 0.8772\n",
            "Epoch 234/300\n",
            "1/1 [==============================] - 0s 48ms/step - loss: 0.0312 - mae: 0.1437 - val_loss: 1.9617 - val_mae: 0.9105\n",
            "Epoch 235/300\n",
            "1/1 [==============================] - 0s 46ms/step - loss: 0.0288 - mae: 0.1492 - val_loss: 1.8987 - val_mae: 0.9374\n",
            "Epoch 236/300\n",
            "1/1 [==============================] - 0s 38ms/step - loss: 0.0587 - mae: 0.2115 - val_loss: 1.9428 - val_mae: 0.9089\n",
            "Epoch 237/300\n",
            "1/1 [==============================] - 0s 41ms/step - loss: 0.0267 - mae: 0.1291 - val_loss: 1.9670 - val_mae: 0.8745\n",
            "Epoch 238/300\n",
            "1/1 [==============================] - 0s 46ms/step - loss: 0.0216 - mae: 0.1183 - val_loss: 1.9230 - val_mae: 0.8591\n",
            "Epoch 239/300\n",
            "1/1 [==============================] - 0s 46ms/step - loss: 0.0163 - mae: 0.1074 - val_loss: 1.8800 - val_mae: 0.8567\n",
            "Epoch 240/300\n",
            "1/1 [==============================] - 0s 48ms/step - loss: 0.0191 - mae: 0.1046 - val_loss: 1.8541 - val_mae: 0.8606\n",
            "Epoch 241/300\n",
            "1/1 [==============================] - 0s 46ms/step - loss: 0.0340 - mae: 0.1364 - val_loss: 1.8018 - val_mae: 0.8877\n",
            "Epoch 242/300\n",
            "1/1 [==============================] - 0s 36ms/step - loss: 0.0376 - mae: 0.1509 - val_loss: 1.8978 - val_mae: 0.8670\n",
            "Epoch 243/300\n",
            "1/1 [==============================] - 0s 41ms/step - loss: 0.0236 - mae: 0.1223 - val_loss: 1.9258 - val_mae: 0.8760\n",
            "Epoch 244/300\n",
            "1/1 [==============================] - 0s 45ms/step - loss: 0.0339 - mae: 0.1383 - val_loss: 1.8994 - val_mae: 0.8896\n",
            "Epoch 245/300\n",
            "1/1 [==============================] - 0s 62ms/step - loss: 0.0447 - mae: 0.1366 - val_loss: 2.0215 - val_mae: 0.8595\n",
            "Epoch 246/300\n",
            "1/1 [==============================] - 0s 41ms/step - loss: 0.0754 - mae: 0.2095 - val_loss: 1.8814 - val_mae: 0.8683\n",
            "Epoch 247/300\n",
            "1/1 [==============================] - 0s 45ms/step - loss: 0.0345 - mae: 0.1361 - val_loss: 1.8713 - val_mae: 0.8550\n",
            "Epoch 248/300\n",
            "1/1 [==============================] - 0s 45ms/step - loss: 0.0505 - mae: 0.1581 - val_loss: 1.8286 - val_mae: 0.8608\n",
            "Epoch 249/300\n",
            "1/1 [==============================] - 0s 42ms/step - loss: 0.0333 - mae: 0.1578 - val_loss: 1.8433 - val_mae: 0.8504\n",
            "Epoch 250/300\n",
            "1/1 [==============================] - 0s 36ms/step - loss: 0.0244 - mae: 0.1269 - val_loss: 1.8091 - val_mae: 0.8656\n",
            "Epoch 251/300\n",
            "1/1 [==============================] - 0s 41ms/step - loss: 0.0239 - mae: 0.1278 - val_loss: 1.7601 - val_mae: 0.9035\n",
            "Epoch 252/300\n",
            "1/1 [==============================] - 0s 37ms/step - loss: 0.0420 - mae: 0.1746 - val_loss: 1.8229 - val_mae: 0.8873\n",
            "Epoch 253/300\n",
            "1/1 [==============================] - 0s 41ms/step - loss: 0.0376 - mae: 0.1607 - val_loss: 1.8382 - val_mae: 0.8849\n",
            "Epoch 254/300\n",
            "1/1 [==============================] - 0s 40ms/step - loss: 0.0129 - mae: 0.0969 - val_loss: 1.8813 - val_mae: 0.8714\n",
            "Epoch 255/300\n",
            "1/1 [==============================] - 0s 38ms/step - loss: 0.0389 - mae: 0.1483 - val_loss: 1.8684 - val_mae: 0.8646\n",
            "Epoch 256/300\n",
            "1/1 [==============================] - 0s 36ms/step - loss: 0.0288 - mae: 0.1418 - val_loss: 1.7968 - val_mae: 0.8756\n",
            "Epoch 257/300\n",
            "1/1 [==============================] - 0s 39ms/step - loss: 0.0217 - mae: 0.1253 - val_loss: 1.7765 - val_mae: 0.8741\n",
            "Epoch 258/300\n",
            "1/1 [==============================] - 0s 37ms/step - loss: 0.0444 - mae: 0.1661 - val_loss: 1.8478 - val_mae: 0.8643\n",
            "Epoch 259/300\n",
            "1/1 [==============================] - 0s 43ms/step - loss: 0.0458 - mae: 0.1662 - val_loss: 1.8608 - val_mae: 0.8992\n",
            "Epoch 260/300\n",
            "1/1 [==============================] - 0s 39ms/step - loss: 0.0405 - mae: 0.1516 - val_loss: 2.0637 - val_mae: 0.8520\n",
            "Epoch 261/300\n",
            "1/1 [==============================] - 0s 36ms/step - loss: 0.0450 - mae: 0.1575 - val_loss: 2.0347 - val_mae: 0.8914\n",
            "Epoch 262/300\n",
            "1/1 [==============================] - 0s 32ms/step - loss: 0.0274 - mae: 0.1347 - val_loss: 1.9894 - val_mae: 0.9348\n",
            "Epoch 263/300\n",
            "1/1 [==============================] - 0s 35ms/step - loss: 0.0577 - mae: 0.1743 - val_loss: 2.1197 - val_mae: 0.9021\n",
            "Epoch 264/300\n",
            "1/1 [==============================] - 0s 43ms/step - loss: 0.0396 - mae: 0.1511 - val_loss: 2.0829 - val_mae: 0.9132\n",
            "Epoch 265/300\n",
            "1/1 [==============================] - 0s 40ms/step - loss: 0.0206 - mae: 0.1158 - val_loss: 1.9867 - val_mae: 0.9304\n",
            "Epoch 266/300\n",
            "1/1 [==============================] - 0s 35ms/step - loss: 0.0256 - mae: 0.1319 - val_loss: 1.9229 - val_mae: 0.9493\n",
            "Epoch 267/300\n",
            "1/1 [==============================] - 0s 39ms/step - loss: 0.0621 - mae: 0.1876 - val_loss: 1.9659 - val_mae: 0.8838\n",
            "Epoch 268/300\n",
            "1/1 [==============================] - 0s 42ms/step - loss: 0.0251 - mae: 0.1281 - val_loss: 1.8993 - val_mae: 0.8749\n",
            "Epoch 269/300\n",
            "1/1 [==============================] - 0s 62ms/step - loss: 0.0272 - mae: 0.1380 - val_loss: 1.7698 - val_mae: 0.9117\n",
            "Epoch 270/300\n",
            "1/1 [==============================] - 0s 37ms/step - loss: 0.0437 - mae: 0.1692 - val_loss: 1.8366 - val_mae: 0.8605\n",
            "Epoch 271/300\n",
            "1/1 [==============================] - 0s 35ms/step - loss: 0.0262 - mae: 0.1284 - val_loss: 1.9619 - val_mae: 0.8421\n",
            "Epoch 272/300\n",
            "1/1 [==============================] - 0s 38ms/step - loss: 0.0585 - mae: 0.2057 - val_loss: 1.7837 - val_mae: 0.8711\n",
            "Epoch 273/300\n",
            "1/1 [==============================] - 0s 39ms/step - loss: 0.0216 - mae: 0.1219 - val_loss: 1.7244 - val_mae: 0.9210\n",
            "Epoch 274/300\n",
            "1/1 [==============================] - 0s 39ms/step - loss: 0.0453 - mae: 0.1749 - val_loss: 1.8467 - val_mae: 0.8706\n",
            "Epoch 275/300\n",
            "1/1 [==============================] - 0s 40ms/step - loss: 0.0360 - mae: 0.1391 - val_loss: 1.9758 - val_mae: 0.8785\n",
            "Epoch 276/300\n",
            "1/1 [==============================] - 0s 45ms/step - loss: 0.0212 - mae: 0.1077 - val_loss: 1.9899 - val_mae: 0.8956\n",
            "Epoch 277/300\n",
            "1/1 [==============================] - 0s 40ms/step - loss: 0.0386 - mae: 0.1400 - val_loss: 1.8541 - val_mae: 0.9335\n",
            "Epoch 278/300\n",
            "1/1 [==============================] - 0s 42ms/step - loss: 0.0853 - mae: 0.1916 - val_loss: 1.9680 - val_mae: 0.8776\n",
            "Epoch 279/300\n",
            "1/1 [==============================] - 0s 45ms/step - loss: 0.0213 - mae: 0.1141 - val_loss: 1.9450 - val_mae: 0.8663\n",
            "Epoch 280/300\n",
            "1/1 [==============================] - 0s 40ms/step - loss: 0.0141 - mae: 0.1021 - val_loss: 1.8151 - val_mae: 0.9050\n",
            "Epoch 281/300\n",
            "1/1 [==============================] - 0s 37ms/step - loss: 0.0296 - mae: 0.1394 - val_loss: 2.0757 - val_mae: 0.8850\n",
            "Epoch 282/300\n",
            "1/1 [==============================] - 0s 47ms/step - loss: 0.0781 - mae: 0.2213 - val_loss: 1.8163 - val_mae: 0.9054\n",
            "Epoch 283/300\n",
            "1/1 [==============================] - 0s 40ms/step - loss: 0.0368 - mae: 0.1645 - val_loss: 1.8914 - val_mae: 0.8698\n",
            "Epoch 284/300\n",
            "1/1 [==============================] - 0s 47ms/step - loss: 0.0282 - mae: 0.1398 - val_loss: 2.1234 - val_mae: 0.9055\n",
            "Epoch 285/300\n",
            "1/1 [==============================] - 0s 44ms/step - loss: 0.0998 - mae: 0.2408 - val_loss: 1.8217 - val_mae: 0.9379\n",
            "Epoch 286/300\n",
            "1/1 [==============================] - 0s 45ms/step - loss: 0.0758 - mae: 0.2328 - val_loss: 1.9577 - val_mae: 0.8591\n",
            "Epoch 287/300\n",
            "1/1 [==============================] - 0s 51ms/step - loss: 0.0302 - mae: 0.1306 - val_loss: 1.9797 - val_mae: 0.8668\n",
            "Epoch 288/300\n",
            "1/1 [==============================] - 0s 47ms/step - loss: 0.0216 - mae: 0.1355 - val_loss: 1.9204 - val_mae: 0.8856\n",
            "Epoch 289/300\n",
            "1/1 [==============================] - 0s 42ms/step - loss: 0.0159 - mae: 0.1091 - val_loss: 1.8794 - val_mae: 0.9046\n",
            "Epoch 290/300\n",
            "1/1 [==============================] - 0s 35ms/step - loss: 0.0194 - mae: 0.1202 - val_loss: 1.9251 - val_mae: 0.8997\n",
            "Epoch 291/300\n",
            "1/1 [==============================] - 0s 46ms/step - loss: 0.0308 - mae: 0.1458 - val_loss: 2.1229 - val_mae: 0.8748\n",
            "Epoch 292/300\n",
            "1/1 [==============================] - 0s 46ms/step - loss: 0.0868 - mae: 0.2357 - val_loss: 1.8853 - val_mae: 0.9281\n",
            "Epoch 293/300\n",
            "1/1 [==============================] - 0s 41ms/step - loss: 0.0355 - mae: 0.1536 - val_loss: 1.8706 - val_mae: 0.9331\n",
            "Epoch 294/300\n",
            "1/1 [==============================] - 0s 40ms/step - loss: 0.0360 - mae: 0.1543 - val_loss: 2.0534 - val_mae: 0.8741\n",
            "Epoch 295/300\n",
            "1/1 [==============================] - 0s 40ms/step - loss: 0.0432 - mae: 0.1453 - val_loss: 2.0478 - val_mae: 0.8952\n",
            "Epoch 296/300\n",
            "1/1 [==============================] - 0s 41ms/step - loss: 0.0622 - mae: 0.1769 - val_loss: 1.9649 - val_mae: 0.9319\n",
            "Epoch 297/300\n",
            "1/1 [==============================] - 0s 48ms/step - loss: 0.0378 - mae: 0.1417 - val_loss: 1.9653 - val_mae: 0.9128\n",
            "Epoch 298/300\n",
            "1/1 [==============================] - 0s 39ms/step - loss: 0.0401 - mae: 0.1354 - val_loss: 1.9256 - val_mae: 0.9508\n",
            "Epoch 299/300\n",
            "1/1 [==============================] - 0s 41ms/step - loss: 0.0638 - mae: 0.1957 - val_loss: 2.1716 - val_mae: 0.8983\n",
            "Epoch 300/300\n",
            "1/1 [==============================] - 0s 53ms/step - loss: 0.0574 - mae: 0.2099 - val_loss: 2.0382 - val_mae: 0.8487\n"
          ],
          "name": "stdout"
        }
      ]
    },
    {
      "cell_type": "code",
      "metadata": {
        "colab": {
          "base_uri": "https://localhost:8080/",
          "height": 314
        },
        "id": "wDZfmEArdHDu",
        "outputId": "29900cc1-1fb0-465c-9173-df734906504f"
      },
      "source": [
        "# Grafik training dan validation loss\n",
        "training_loss=fitting_history.history['loss']\n",
        "validation_loss=fitting_history.history['val_loss']\n",
        "epochs=range(len(training_loss))\n",
        "\n",
        "plt.plot(epochs, training_loss, 'r', label=\"Training Loss\")\n",
        "plt.plot(epochs, validation_loss, 'b', label=\"Validation Loss\")\n",
        "plt.title('Training and validation loss')\n",
        "plt.legend(loc=0)\n",
        "plt.figure()"
      ],
      "execution_count": null,
      "outputs": [
        {
          "output_type": "execute_result",
          "data": {
            "text/plain": [
              "<Figure size 432x288 with 0 Axes>"
            ]
          },
          "metadata": {
            "tags": []
          },
          "execution_count": 52
        },
        {
          "output_type": "display_data",
          "data": {
            "image/png": "[encoded data removed]",
            "text/plain": [
              "<Figure size 432x288 with 1 Axes>"
            ]
          },
          "metadata": {
            "tags": [],
            "needs_background": "light"
          }
        },
        {
          "output_type": "display_data",
          "data": {
            "text/plain": [
              "<Figure size 432x288 with 0 Axes>"
            ]
          },
          "metadata": {
            "tags": []
          }
        }
      ]
    },
    {
      "cell_type": "code",
      "metadata": {
        "colab": {
          "base_uri": "https://localhost:8080/",
          "height": 314
        },
        "id": "satqDLqc7Ks7",
        "outputId": "ea722286-6576-4841-d512-b943d6bd4003"
      },
      "source": [
        "#grafik training and validation MSE\n",
        "training_mae=fitting_history.history['mae']\n",
        "validation_mae=fitting_history.history['val_mae']\n",
        "epochs=range(len(training_mae))\n",
        "\n",
        "plt.plot(epochs, training_mae, 'r', label=\"Training MAE\")\n",
        "plt.plot(epochs, validation_mae, 'b', label=\"Validation MAE\")\n",
        "plt.title('Training and validation MAE')\n",
        "plt.legend(loc=0)\n",
        "plt.figure()"
      ],
      "execution_count": null,
      "outputs": [
        {
          "output_type": "execute_result",
          "data": {
            "text/plain": [
              "<Figure size 432x288 with 0 Axes>"
            ]
          },
          "metadata": {
            "tags": []
          },
          "execution_count": 53
        },
        {
          "output_type": "display_data",
          "data": {
            "image/png": "[encoded data removed]",
            "text/plain": [
              "<Figure size 432x288 with 1 Axes>"
            ]
          },
          "metadata": {
            "tags": [],
            "needs_background": "light"
          }
        },
        {
          "output_type": "display_data",
          "data": {
            "text/plain": [
              "<Figure size 432x288 with 0 Axes>"
            ]
          },
          "metadata": {
            "tags": []
          }
        }
      ]
    },
    {
      "cell_type": "code",
      "metadata": {
        "id": "Kff_Y0Kz-Bfp"
      },
      "source": [
        "# # Simpan model\n",
        "# model.save('model-crop.h5')"
      ],
      "execution_count": null,
      "outputs": []
    },
    {
      "cell_type": "markdown",
      "metadata": {
        "id": "8pVxdSKyoTq_"
      },
      "source": [
        "# **Testing Model**"
      ]
    },
    {
      "cell_type": "code",
      "metadata": {
        "id": "5lkgtUQ-oeL-"
      },
      "source": [
        "# # Load the model\n",
        "# model = tf.keras.models.load_model('model-crop.h5')"
      ],
      "execution_count": null,
      "outputs": []
    },
    {
      "cell_type": "code",
      "metadata": {
        "colab": {
          "base_uri": "https://localhost:8080/"
        },
        "id": "wbUUoRNP_QlI",
        "outputId": "b9133f67-59df-4a38-d85b-a881bfd31d49"
      },
      "source": [
        "# Input dari data testing\n",
        "test_data=[]\n",
        "number_of_test=[]\n",
        "counter=0\n",
        "number=1\n",
        "\n",
        "for x in input_test_scaled:\n",
        "  test_data.append([])\n",
        "  for y in x:\n",
        "    test_data[counter].append(y)\n",
        "  counter+=1\n",
        "  number_of_test.append(number)\n",
        "  number+=1\n",
        "\n",
        "total_of_test=len(input_test_scaled)\n",
        "print(total_of_test)\n",
        "print(number_of_test)"
      ],
      "execution_count": null,
      "outputs": [
        {
          "output_type": "stream",
          "text": [
            "6\n",
            "[1, 2, 3, 4, 5, 6]\n"
          ],
          "name": "stdout"
        }
      ]
    },
    {
      "cell_type": "code",
      "metadata": {
        "colab": {
          "base_uri": "https://localhost:8080/"
        },
        "id": "TYvxYnwx_9qw",
        "outputId": "281ebf0f-8f84-48b6-b562-0c0a4bc38cfd"
      },
      "source": [
        "# Prediksi data validasi\n",
        "output_prediksi=[]\n",
        "output_test_plot=[]\n",
        "\n",
        "for i in range(total_of_test):\n",
        "  input_prediksi=[]\n",
        "  input_prediksi.append([])\n",
        "  for y in test_data[i]:\n",
        "    input_prediksi[0].append(y)\n",
        "  prediksi = model.predict(input_prediksi)\n",
        "  output_prediksi.append(prediksi[0][0])\n",
        "  output_test_plot.append(output_test[i][0])\n",
        "\n",
        "print(output_prediksi)\n",
        "print(output_test_plot)"
      ],
      "execution_count": null,
      "outputs": [
        {
          "output_type": "stream",
          "text": [
            "[13.618804, 7.6408114, 5.7923923, 4.402637, 6.435817, 21.646603]\n",
            "[13.4546255, 7.502774, 6.3529704, 4.7015111, 6.1872834, 22.932964]\n"
          ],
          "name": "stdout"
        }
      ]
    },
    {
      "cell_type": "code",
      "metadata": {
        "colab": {
          "base_uri": "https://localhost:8080/",
          "height": 295
        },
        "id": "PAFmjuEuB2zF",
        "outputId": "12ee1306-af7d-4422-8e0a-63ac2e7e29bd"
      },
      "source": [
        "# Grafik garis dari total produksi panen\n",
        "\n",
        "plt.plot(number_of_test,output_prediksi,marker='o')\n",
        "plt.plot(number_of_test,output_test_plot,marker='o')\n",
        "plt.title('Data Asli vs Prediksi')\n",
        "plt.ylabel('Ratus Ribu Ton')\n",
        "plt.xlabel('Nomer Data')\n",
        "plt.show()"
      ],
      "execution_count": null,
      "outputs": [
        {
          "output_type": "display_data",
          "data": {
            "image/png": "[encoded data removed]",
            "text/plain": [
              "<Figure size 432x288 with 1 Axes>"
            ]
          },
          "metadata": {
            "tags": [],
            "needs_background": "light"
          }
        }
      ]
    },
    {
      "cell_type": "code",
      "metadata": {
        "colab": {
          "base_uri": "https://localhost:8080/"
        },
        "id": "jzbU6dsyCfD0",
        "outputId": "e34636da-37d3-44f4-a900-8e9541615689"
      },
      "source": [
        "# Menghitung nilai MSE dan MAE\n",
        "mse_score, mae_score = model.evaluate(input_test_scaled, output_test)\n",
        "print('Nilai Mean Squared Error (MSE) : ', mse_score)\n",
        "print('Nilai Mean Absolute Error (MAE) : ', mae_score)"
      ],
      "execution_count": null,
      "outputs": [
        {
          "output_type": "stream",
          "text": [
            "1/1 [==============================] - 0s 17ms/step - loss: 0.3610 - mae: 0.4494\n",
            "Nilai Mean Squared Error (MSE) :  0.3610129654407501\n",
            "Nilai Mean Absolute Error (MAE) :  0.44942736625671387\n"
          ],
          "name": "stdout"
        }
      ]
    }
  ]
}